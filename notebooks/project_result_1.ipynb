{
 "cells": [
  {
   "cell_type": "markdown",
   "metadata": {
    "tags": []
   },
   "source": [
    "# Full workflow to produce results\n",
    "\n",
    "### Outline:\n",
    "- load ICESat-2 data from file (see [`icesat2_query_download.ipynb`](https://github.com/ICESAT-2HackWeek/2022-snow-dem-large/blob/main/notebooks/icesat2_query_download.ipynb))\n",
    "- load DEMs: SRTM and Copernicus (see [`SRTM_GEE.ipynb`](https://github.com/ICESAT-2HackWeek/2022-snow-dem-large/blob/main/notebooks/SRTM_GEE.ipynb) and [DEM_elevation_extraction.ipynb](https://github.com/ICESAT-2HackWeek/2022-snow-dem-large/blob/main/notebooks/DEM_elevation_extraction.ipynb))\n",
    "- coregister ICESat-2 and DEMs (TBD!)\n",
    "- estimate snow depth for each ICESat-2 track (TBD!)\n",
    "- load SNOTEL snow depths for proxy ground estimates (see [`SNOTEL_query.ipynb`](https://github.com/ICESAT-2HackWeek/2022-snow-dem-large/blob/main/notebooks/SNOTEL_query.ipynb))\n",
    "- compare results (TBD!)"
   ]
  },
  {
   "cell_type": "code",
   "execution_count": null,
   "metadata": {},
   "outputs": [],
   "source": []
  }
 ],
 "metadata": {
  "kernelspec": {
   "display_name": "Python 3 (ipykernel)",
   "language": "python",
   "name": "python3"
  },
  "language_info": {
   "codemirror_mode": {
    "name": "ipython",
    "version": 3
   },
   "file_extension": ".py",
   "mimetype": "text/x-python",
   "name": "python",
   "nbconvert_exporter": "python",
   "pygments_lexer": "ipython3",
   "version": "3.9.10"
  }
 },
 "nbformat": 4,
 "nbformat_minor": 4
}
