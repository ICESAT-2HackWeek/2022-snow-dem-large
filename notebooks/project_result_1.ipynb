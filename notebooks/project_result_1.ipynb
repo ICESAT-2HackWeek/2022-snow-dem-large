{
 "cells": [
  {
   "cell_type": "markdown",
   "metadata": {
    "tags": []
   },
   "source": [
    "# Full workflow to produce results\n",
    "\n",
    "### Outline:\n",
    "1. load ICESat-2 data from file (see [`icesat2_query_download.ipynb`](https://github.com/ICESAT-2HackWeek/2022-snow-dem-large/blob/main/notebooks/icesat2_query_download.ipynb))\n",
    "2. load DEMs: SRTM and Copernicus (see [`SRTM_GEE.ipynb`](https://github.com/ICESAT-2HackWeek/2022-snow-dem-large/blob/main/notebooks/SRTM_GEE.ipynb) and [`DEM_elevation_extraction.ipynb`](https://github.com/ICESAT-2HackWeek/2022-snow-dem-large/blob/main/notebooks/DEM_elevation_extraction.ipynb))\n",
    "3. coregister ICESat-2 and DEMs (TBD!)\n",
    "4. estimate snow depth for each ICESat-2 track (TBD!)\n",
    "5. load SNOTEL snow depths for approximate ground estimates (see [`SNOTEL_query.ipynb`](https://github.com/ICESAT-2HackWeek/2022-snow-dem-large/blob/main/notebooks/SNOTEL_query.ipynb))\n",
    "6. compare results (TBD!)"
   ]
  },
  {
   "cell_type": "markdown",
   "metadata": {},
   "source": [
    "### 1. Load ICESat-2 data from file"
   ]
  },
  {
   "cell_type": "code",
   "execution_count": null,
   "metadata": {},
   "outputs": [],
   "source": []
  },
  {
   "cell_type": "markdown",
   "metadata": {},
   "source": [
    "### 2. Load DEMs\n",
    "\n",
    "#### a. Copernicus"
   ]
  },
  {
   "cell_type": "code",
   "execution_count": null,
   "metadata": {},
   "outputs": [],
   "source": []
  },
  {
   "cell_type": "markdown",
   "metadata": {},
   "source": [
    "#### b. SRTM"
   ]
  },
  {
   "cell_type": "code",
   "execution_count": null,
   "metadata": {},
   "outputs": [],
   "source": []
  },
  {
   "cell_type": "markdown",
   "metadata": {},
   "source": [
    "### 3. Coregister ICESat-2 and DEMs"
   ]
  },
  {
   "cell_type": "code",
   "execution_count": null,
   "metadata": {},
   "outputs": [],
   "source": []
  },
  {
   "cell_type": "markdown",
   "metadata": {},
   "source": [
    "### 4. Estimate snow depth for each ICESat-2 track"
   ]
  },
  {
   "cell_type": "code",
   "execution_count": null,
   "metadata": {},
   "outputs": [],
   "source": []
  },
  {
   "cell_type": "markdown",
   "metadata": {},
   "source": [
    "### 5. Load SNOTEL snow depths"
   ]
  },
  {
   "cell_type": "code",
   "execution_count": null,
   "metadata": {},
   "outputs": [],
   "source": []
  },
  {
   "cell_type": "markdown",
   "metadata": {},
   "source": [
    "### 6. Compare results"
   ]
  },
  {
   "cell_type": "code",
   "execution_count": null,
   "metadata": {},
   "outputs": [],
   "source": []
  }
 ],
 "metadata": {
  "kernelspec": {
   "display_name": "Python 3 (ipykernel)",
   "language": "python",
   "name": "python3"
  },
  "language_info": {
   "codemirror_mode": {
    "name": "ipython",
    "version": 3
   },
   "file_extension": ".py",
   "mimetype": "text/x-python",
   "name": "python",
   "nbconvert_exporter": "python",
   "pygments_lexer": "ipython3",
   "version": "3.9.10"
  }
 },
 "nbformat": 4,
 "nbformat_minor": 4
}
