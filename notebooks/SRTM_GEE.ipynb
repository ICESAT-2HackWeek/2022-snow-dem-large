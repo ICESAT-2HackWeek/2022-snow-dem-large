{
 "cells": [
  {
   "cell_type": "markdown",
   "id": "9c77554b-f7c1-4df9-a5ad-fccc218d68b9",
   "metadata": {},
   "source": [
    "# Script to extract SRTM elevations over study sites through Google Earth Engine (GEE)\n",
    "\n",
    "Adapted from [2022 ICESat Hackweek notebook](https://github.com/ICESAT-2HackWeek/website2022/blob/main/book/tutorials/DataVisualization/Visualization_Earth_Engine_geemap_IS2_HW_2022.ipynb)\n",
    "\n",
    "To-Do:\n",
    "- adjust to account for different beams in different ATL files\n",
    "- use xarray to save information for each ICESat-2 track?\n",
    "- separate elevation difference calculations by study area and/or track (biases could be different)\n",
    "- plot elevations in map view"
   ]
  },
  {
   "cell_type": "code",
   "execution_count": 1,
   "id": "534dbf9d-c179-4f1a-aef4-039d3a25c377",
   "metadata": {},
   "outputs": [],
   "source": [
    "# !pip install contextily"
   ]
  },
  {
   "cell_type": "code",
   "execution_count": 2,
   "id": "c57a7b3f-a2d7-4c2d-b1a3-897153bbd7e8",
   "metadata": {},
   "outputs": [],
   "source": [
    "import os\n",
    "import ee\n",
    "import pandas as pd\n",
    "import geopandas as gpd\n",
    "import geemap\n",
    "import numpy as np\n",
    "import contextily as ctx\n",
    "from IPython.display import Image\n",
    "import matplotlib.pyplot as plt\n",
    "import h5py\n",
    "from rasterio import plot, warp"
   ]
  },
  {
   "cell_type": "code",
   "execution_count": 3,
   "id": "9b8e1efa-91d8-4023-95ab-08163eba895a",
   "metadata": {},
   "outputs": [],
   "source": [
    "# -----GEE Authentication and Initialization\n",
    "try:\n",
    "    ee.Initialize()\n",
    "except: \n",
    "    ee.Authenticate()\n",
    "    ee.Initialize()"
   ]
  },
  {
   "cell_type": "markdown",
   "id": "429846e9-1e95-48e1-bc86-4153ee995095",
   "metadata": {},
   "source": [
    "### Extract SRTM elevations for AOI #1: Grand Mesa, CO"
   ]
  },
  {
   "cell_type": "code",
   "execution_count": 4,
   "id": "69e5f9dd-7337-40b1-85df-d4865a0cc5c1",
   "metadata": {},
   "outputs": [
    {
     "data": {
      "text/html": [
       "<img src=\"https://earthengine.googleapis.com/v1alpha/projects/earthengine-legacy/thumbnails/6e4c934ced21fe3e7e0e9ccff5e2867c-0796f647cfe7d2fd5ab7c8b8c2be0e8f:getPixels\"/>"
      ],
      "text/plain": [
       "<IPython.core.display.Image object>"
      ]
     },
     "execution_count": 4,
     "metadata": {},
     "output_type": "execute_result"
    }
   ],
   "source": [
    "# -----Create geojson AOI\n",
    "# used geojson.io\n",
    "AOI1 = ee.Geometry({\"type\": \"Polygon\",\"coordinates\": \n",
    "                    [[[-108.24005126953124,38.884619201291905],\n",
    "                      [-107.9,38.884619201291905],\n",
    "                      [-107.9,39.11727568585598],\n",
    "                      [-108.24005126953124,39.11727568585598],\n",
    "                      [-108.24005126953124,38.884619201291905]]\n",
    "                    ]})\n",
    "\n",
    "# -----Query for SRTM, clip to AOI\n",
    "SRTM1 = ee.Image(\"USGS/SRTMGL1_003\").clip(AOI1)\n",
    "\n",
    "# -----Plot elevations\n",
    "# from: https://developers.google.com/earth-engine/tutorials/community/intro-to-python-api\n",
    "SRTM1_url = SRTM1.getThumbUrl({\n",
    "    'min': 0, 'max': 6000,\n",
    "    'palette': ['white', 'green']})\n",
    "Image(url=SRTM1_url)"
   ]
  },
  {
   "cell_type": "markdown",
   "id": "9d15454b-d332-4757-8f9a-5cc538df0283",
   "metadata": {},
   "source": [
    "### Extract SRTM elevations for AOI #2: Mores Creek Summit, ID"
   ]
  },
  {
   "cell_type": "code",
   "execution_count": 5,
   "id": "e04e3c59-33e3-45ee-8260-8e7beff70b82",
   "metadata": {},
   "outputs": [
    {
     "data": {
      "text/html": [
       "<img src=\"https://earthengine.googleapis.com/v1alpha/projects/earthengine-legacy/thumbnails/88d4cbe030e12f6ee8f7dae509e425ad-5f90ad194f9426a55152a3a8a2f835b7:getPixels\"/>"
      ],
      "text/plain": [
       "<IPython.core.display.Image object>"
      ]
     },
     "execution_count": 5,
     "metadata": {},
     "output_type": "execute_result"
    }
   ],
   "source": [
    "# -----Create geojson AOI\n",
    "# used geojson.io\n",
    "AOI2 = ee.Geometry({\n",
    "        \"type\": \"Polygon\",\n",
    "        \"coordinates\": [[[-115.74131011962889,43.8855215890078],\n",
    "                         [-115.61874389648438,43.8855215890078],\n",
    "                         [-115.61874389648438,43.963661859597536],\n",
    "                         [-115.74131011962889,43.963661859597536],\n",
    "                         [-115.74131011962889,43.8855215890078]\n",
    "                        ]]})\n",
    "\n",
    "# -----Query for SRTM clip to AOI\n",
    "SRTM2 = ee.Image(\"USGS/SRTMGL1_003\").clip(AOI2)\n",
    "\n",
    "# -----Plot elevations\n",
    "# from: https://developers.google.com/earth-engine/tutorials/community/intro-to-python-api\n",
    "SRTM2_url = SRTM2.getThumbUrl({\n",
    "    'min': 0, 'max': 6000,\n",
    "    'palette': ['white', 'green']})\n",
    "Image(url=SRTM2_url)"
   ]
  },
  {
   "cell_type": "markdown",
   "id": "ac81bbe0-473d-46b9-a3d3-d1e674016256",
   "metadata": {},
   "source": [
    "### Load ICESat-2 snow-off track"
   ]
  },
  {
   "cell_type": "code",
   "execution_count": 6,
   "id": "05a895ba-58e7-4095-b6a9-bca00ae3b372",
   "metadata": {},
   "outputs": [],
   "source": [
    "# -----function to convert gdf to ee.FeatureCollection\n",
    "from functools import reduce\n",
    "def feature2ee(gdf):\n",
    "    g = [i for i in gdf.geometry]\n",
    "    features=[]\n",
    "    #for Point geo data type\n",
    "    if (gdf.geom_type[0] == 'Point'):\n",
    "        for i in range(len(g)):\n",
    "            g = [i for i in gdf.geometry]\n",
    "            x,y = g[i].coords.xy\n",
    "            cords = np.dstack((x,y)).tolist()\n",
    "            double_list = reduce(lambda x,y: x+y, cords)\n",
    "            single_list = reduce(lambda x,y: x+y, double_list)\n",
    "            g=ee.Geometry.Point(single_list)\n",
    "            feature = ee.Feature(g)\n",
    "            features.append(feature)\n",
    "        ee_object = ee.FeatureCollection(features)\n",
    "        return ee_object"
   ]
  },
  {
   "cell_type": "code",
   "execution_count": 7,
   "id": "d9cda557-15d6-46e7-a8b4-ff58bc7f20e4",
   "metadata": {},
   "outputs": [
    {
     "data": {
      "text/html": [
       "<div>\n",
       "<style scoped>\n",
       "    .dataframe tbody tr th:only-of-type {\n",
       "        vertical-align: middle;\n",
       "    }\n",
       "\n",
       "    .dataframe tbody tr th {\n",
       "        vertical-align: top;\n",
       "    }\n",
       "\n",
       "    .dataframe thead th {\n",
       "        text-align: right;\n",
       "    }\n",
       "</style>\n",
       "<table border=\"1\" class=\"dataframe\">\n",
       "  <thead>\n",
       "    <tr style=\"text-align: right;\">\n",
       "      <th></th>\n",
       "      <th>lat</th>\n",
       "      <th>lon</th>\n",
       "      <th>h_te_best_fit</th>\n",
       "      <th>geometry</th>\n",
       "    </tr>\n",
       "  </thead>\n",
       "  <tbody>\n",
       "    <tr>\n",
       "      <th>0</th>\n",
       "      <td>43.937279</td>\n",
       "      <td>-115.664154</td>\n",
       "      <td>1867.905884</td>\n",
       "      <td>POINT (-115.66415 43.93728)</td>\n",
       "    </tr>\n",
       "    <tr>\n",
       "      <th>1</th>\n",
       "      <td>43.936382</td>\n",
       "      <td>-115.664284</td>\n",
       "      <td>1824.602539</td>\n",
       "      <td>POINT (-115.66428 43.93638)</td>\n",
       "    </tr>\n",
       "    <tr>\n",
       "      <th>2</th>\n",
       "      <td>43.935486</td>\n",
       "      <td>-115.664406</td>\n",
       "      <td>1801.802979</td>\n",
       "      <td>POINT (-115.66441 43.93549)</td>\n",
       "    </tr>\n",
       "    <tr>\n",
       "      <th>3</th>\n",
       "      <td>43.934586</td>\n",
       "      <td>-115.664528</td>\n",
       "      <td>1810.246460</td>\n",
       "      <td>POINT (-115.66453 43.93459)</td>\n",
       "    </tr>\n",
       "    <tr>\n",
       "      <th>4</th>\n",
       "      <td>43.933689</td>\n",
       "      <td>-115.664642</td>\n",
       "      <td>1814.206665</td>\n",
       "      <td>POINT (-115.66464 43.93369)</td>\n",
       "    </tr>\n",
       "  </tbody>\n",
       "</table>\n",
       "</div>"
      ],
      "text/plain": [
       "         lat         lon  h_te_best_fit                     geometry\n",
       "0  43.937279 -115.664154    1867.905884  POINT (-115.66415 43.93728)\n",
       "1  43.936382 -115.664284    1824.602539  POINT (-115.66428 43.93638)\n",
       "2  43.935486 -115.664406    1801.802979  POINT (-115.66441 43.93549)\n",
       "3  43.934586 -115.664528    1810.246460  POINT (-115.66453 43.93459)\n",
       "4  43.933689 -115.664642    1814.206665  POINT (-115.66464 43.93369)"
      ]
     },
     "execution_count": 7,
     "metadata": {},
     "output_type": "execute_result"
    }
   ],
   "source": [
    "# -----load file\n",
    "data_path = '/home/jovyan/data/'\n",
    "is2_file = 'processed_ATL08_20200920013522_13240806_005_01.h5' # Sept = snow-off \n",
    "\n",
    "with h5py.File(data_path+is2_file, 'r') as f:\n",
    "    is2_gt2l = pd.DataFrame(data={'lat': f['gt2l/land_segments/latitude'][:],\n",
    "                                 'lon': f['gt2l/land_segments/longitude'][:],\n",
    "                                  'h_te_best_fit': f['gt2l/land_segments/terrain/h_te_best_fit'][:]})\n",
    "\n",
    "# -----select one of the beams and convert it to a Pandas GeoDataFrame (gdf)\n",
    "is2_gdf = gpd.GeoDataFrame(is2_gt2l, geometry=gpd.points_from_xy(is2_gt2l.lon, is2_gt2l.lat), crs='epsg:7661')\n",
    "is2_gdf.head()"
   ]
  },
  {
   "cell_type": "code",
   "execution_count": 16,
   "id": "58ea9e21-80d5-441a-ba53-45b08798280b",
   "metadata": {},
   "outputs": [
    {
     "data": {
      "image/png": "[encoded data removed]",
      "text/plain": [
       "<Figure size 864x432 with 2 Axes>"
      ]
     },
     "metadata": {
      "needs_background": "light"
     },
     "output_type": "display_data"
    },
    {
     "name": "stderr",
     "output_type": "stream",
     "text": [
      "/srv/conda/envs/notebook/lib/python3.9/site-packages/contextily/tile.py:581: UserWarning: The inferred zoom level of 19 is not valid for the current tile provider (valid zooms: 0 - 13).\n",
      "  warnings.warn(msg)\n"
     ]
    },
    {
     "data": {
      "image/png": "[encoded data removed]",
      "text/plain": [
       "<Figure size 432x288 with 1 Axes>"
      ]
     },
     "metadata": {
      "needs_background": "light"
     },
     "output_type": "display_data"
    },
    {
     "name": "stdout",
     "output_type": "stream",
     "text": [
      "figures saved to file\n"
     ]
    }
   ],
   "source": [
    "# -----convert ICESat-2 gdf to ee.FeatureCollection\n",
    "is2_ee = feature2ee(is2_gdf)\n",
    "is2_ee.getInfo();\n",
    "\n",
    "# -----sample SRTM elevation at ICESat-2 coordinates\n",
    "SRTM2_sample = ee.FeatureCollection(SRTM2.sample(is2_ee))\n",
    "SRTM2_sample_gdf = geemap.ee_to_geopandas(SRTM2_sample, selectors=['elevation'])\n",
    "SRTM2_sample_gdf['lon'] = is2_gdf['lon']\n",
    "SRTM2_sample_gdf['lat'] = is2_gdf['lat']\n",
    "\n",
    "# -----calculate elevation difference\n",
    "snow_off_diff = is2_gdf['h_te_best_fit'] - SRTM2_sample_gdf['elevation']\n",
    "\n",
    "# -----plot\n",
    "# SRTM & ICESat-2 elevations\n",
    "fig1, (ax1, ax2) = plt.subplots(2, 1, figsize=(12, 6))\n",
    "plt.rcParams.update({'font.size': 14, 'font.serif': 'Arial'})\n",
    "ax1.plot(SRTM2_sample_gdf['lat'], \n",
    "         SRTM2_sample_gdf['elevation'], color='blue', label='SRTM')\n",
    "ax1.plot(SRTM2_sample_gdf['lat'],\n",
    "         is2_gdf['h_te_best_fit'], color='orange', label='ICESat-2')\n",
    "ax1.set_ylabel('elevation [m]')\n",
    "ax1.set_title('2020-09-20 (\"snow-off\")')\n",
    "ax1.grid()\n",
    "ax1.legend()\n",
    "# elevation difference\n",
    "ax2.plot(SRTM2_sample_gdf['lat'], snow_off_diff, color='black', label='difference')\n",
    "ax2.set_xlabel('Latitude')\n",
    "ax2.set_ylabel('elevation [m]')\n",
    "ax2.legend()\n",
    "ax2.grid()\n",
    "plt.show()\n",
    "\n",
    "# Map view\n",
    "fig2, axC = plt.subplots(1, 1)\n",
    "axC.scatter(SRTM2_sample_gdf['lon'], SRTM2_sample_gdf['lat'], s=10, c = snow_off_diff, cmap=plt.cm.inferno)\n",
    "ctx.add_basemap(ax=axC, crs=is2_gdf.crs, source=ctx.providers.Esri.WorldShadedRelief) \n",
    "axC.grid()\n",
    "axC.set_xlim(-115.8, -115.6)\n",
    "axC.set_ylim(43.8, 44)\n",
    "plt.show()\n",
    "\n",
    "# -----save figure\n",
    "fig1.savefig('../figures/snow_free_profile_SRTM_processed_ATL08_20200920013522_13240806_005_01.png',dpi=200)\n",
    "fig2.savefig('../figures/snow_free_profile_MAP_SRTM_processed_ATL08_20200920013522_13240806_005_01.png',dpi=200)\n",
    "print('figures saved to file')"
   ]
  },
  {
   "cell_type": "code",
   "execution_count": null,
   "id": "f8994148-7811-45e1-9fc1-607f336d74f3",
   "metadata": {},
   "outputs": [],
   "source": [
    "# -----run for other ICESat-2 tracks, using snow_off_diff to adjust snow depths\n",
    "\n",
    "# grab ICESat-2 file names\n",
    "file_names = sorted(os.listdir(data_path))\n",
    "\n",
    "# create figure\n",
    "fig2, (axA, axB) = plt.subplots(1, 2, figsize=(12, 10))\n",
    "plt.rcParams.update({'font.size': 14, 'font.serif': 'Arial'})\n",
    "# Grand Mesa, CO\n",
    "axA.set_ylabel('Latitude')\n",
    "axA.set_xlim(-115.8, -115.6)\n",
    "axA.set_ylim(43.8, 44)\n",
    "axA.set_title('Mores Creek Summit, ID')\n",
    "# Mores Creek Summit, ID\n",
    "# axB.set_xlabel('Longitude')\n",
    "axB.set_ylabel('Latitude')\n",
    "axB.set_xlabel('Longitude')\n",
    "axB.set_xlim(-108.3, -107.8)\n",
    "axB.set_ylim(38.8, 39.2)\n",
    "axB.set_title('Grand Mesa, CO')\n",
    "# line plotting colormap\n",
    "colors = plt.cm.PuOr(np.linspace(0,1,len(file_names)+1))\n",
    "\n",
    "count = 0 # file counter for line plotting\n",
    "\n",
    "# loop through files\n",
    "for file_name in file_names:\n",
    "    \n",
    "    count += 1 # increase file counter\n",
    "    \n",
    "    # extract date from file name\n",
    "    date = file_name[16:24]\n",
    "    \n",
    "    # load file\n",
    "    with h5py.File(data_path+file_name, 'r') as f:\n",
    "        \n",
    "        # check which beams are contained within file (not every file has both beams)\n",
    "        if 'gt2l' in f:\n",
    "            \n",
    "            is2_gt2l = pd.DataFrame(data={'lat': f['gt2l/land_segments/latitude'][:],\n",
    "                                      'lon': f['gt2l/land_segments/longitude'][:],\n",
    "                                      'h_te_best_fit': f['gt2l/land_segments/terrain/h_te_best_fit'][:]})\n",
    "            \n",
    "            # convert is2 to a geodataframe\n",
    "            is2_gdf = gpd.GeoDataFrame(is2_gt2l, geometry=gpd.points_from_xy(is2_gt2l.lon, is2_gt2l.lat), crs='epsg:7661')\n",
    "            # convert is2 gdf to ee.FeatureCollection\n",
    "            is2_ee = feature2ee(is2_gdf)\n",
    "            # sample SRTM elevation at ICESat-2 coordinates\n",
    "            # SRTM1\n",
    "            SRTM1_sample = ee.FeatureCollection(SRTM1.sample(is2_ee))\n",
    "            SRTM1_sample_gdf = geemap.ee_to_geopandas(SRTM1_sample, selectors=['elevation'])\n",
    "            SRTM1_sample_gdf['lon'] = is2_gdf['lon']\n",
    "            SRTM1_sample_gdf['lat'] = is2_gdf['lat']\n",
    "            # SRTM2\n",
    "            SRTM2_sample = ee.FeatureCollection(SRTM2.sample(is2_ee))\n",
    "            SRTM2_sample_gdf = geemap.ee_to_geopandas(SRTM2_sample, selectors=['elevation'])\n",
    "            SRTM2_sample_gdf['lon'] = is2_gdf['lon']\n",
    "            SRTM2_sample_gdf['lat'] = is2_gdf['lat']\n",
    "             # determine which one applies\n",
    "            if 'elevation' in SRTM1_sample_gdf.columns:\n",
    "                SRTM_sample_gdf = SRTM1_sample_gdf\n",
    "            elif 'elevation' in SRTM2_sample_gdf.columns:\n",
    "                SRTM_sample_gdf = SRTM2_sample_gdf\n",
    "    \n",
    "            # calculate elevation difference\n",
    "            diff = is2_gdf['h_te_best_fit'] - SRTM_sample_gdf['elevation']\n",
    "\n",
    "            # plot elevation difference\n",
    "            axA.scatter(is2_gdf['lon'], is2_gdf['lat'], s= 10, c = diff, cmap=plt.cm.viridis)\n",
    "            axB.scatter(is2_gdf['lon'], is2_gdf['lat'], s= 10, c = diff, cmap=plt.cm.viridis)\n",
    "            \n",
    "        if 'gt2r' in f:\n",
    "            \n",
    "            is2_gt2r = pd.DataFrame(data={'lat': f['gt2l/land_segments/latitude'][:],\n",
    "                                      'lon': f['gt2l/land_segments/longitude'][:],\n",
    "                                      'h_te_best_fit': f['gt2l/land_segments/terrain/h_te_best_fit'][:]})\n",
    "            \n",
    "            # convert is2 to a geodataframe\n",
    "            is2_gdf = gpd.GeoDataFrame(is2_gt2r, geometry=gpd.points_from_xy(is2_gt2l.lon, is2_gt2l.lat), crs='epsg:7661')\n",
    "            # convert is2 gdf to ee.FeatureCollection\n",
    "            is2_ee = feature2ee(is2_gdf)\n",
    "            # sample SRTM elevation at ICESat-2 coordinates\n",
    "            # SRTM1\n",
    "            SRTM1_sample = ee.FeatureCollection(SRTM1.sample(is2_ee))\n",
    "            SRTM1_sample_gdf = geemap.ee_to_geopandas(SRTM1_sample, selectors=['elevation'])\n",
    "            SRTM1_sample_gdf['lon'] = is2_gdf['lon']\n",
    "            SRTM1_sample_gdf['lat'] = is2_gdf['lat']\n",
    "            # SRTM2\n",
    "            SRTM2_sample = ee.FeatureCollection(SRTM2.sample(is2_ee))\n",
    "            SRTM2_sample_gdf = geemap.ee_to_geopandas(SRTM2_sample, selectors=['elevation'])\n",
    "            SRTM2_sample_gdf['lon'] = is2_gdf['lon']\n",
    "            SRTM2_sample_gdf['lat'] = is2_gdf['lat']\n",
    "             # determine which one applies\n",
    "            if 'elevation' in SRTM1_sample_gdf.columns:\n",
    "                SRTM_sample_gdf = SRTM1_sample_gdf\n",
    "            elif 'elevation' in SRTM2_sample_gdf.columns:\n",
    "                SRTM_sample_gdf = SRTM2_sample_gdf\n",
    "    \n",
    "            # calculate elevation difference\n",
    "            diff = is2_gdf['h_te_best_fit'] - SRTM_sample_gdf['elevation']\n",
    "\n",
    "            # plot elevation difference\n",
    "            axA.scatter(is2_gdf['lon'], is2_gdf['lat'], s=10, c = diff, cmap=plt.cm.viridis)\n",
    "            points = axB.scatter(is2_gdf['lon'], is2_gdf['lat'], s=10, c = diff, cmap=plt.cm.viridis)\n",
    "    \n",
    "# axB.legend(bbox_to_anchor=(1.25, 1.8))\n",
    "ctx.add_basemap(ax=axA, crs=is2_gdf.crs, source=ctx.providers.Esri.WorldShadedRelief) \n",
    "ctx.add_basemap(ax=axB, crs=is2_gdf.crs, source=ctx.providers.Esri.WorldShadedRelief) \n",
    "fig.colorbar(points, ax=axB, label='elevation difference [m]', shrink=0.4)\n",
    "plt.show()\n",
    "\n",
    "# save figure\n",
    "fig.savefig('../figures/SRTM_elev_diff.png')\n",
    "print('figure saved to file')"
   ]
  },
  {
   "cell_type": "code",
   "execution_count": null,
   "id": "1cf73cd4-953d-4157-b099-064afe8609b2",
   "metadata": {},
   "outputs": [],
   "source": [
    "# -----create a GEE map\n",
    "# Map = geemap.Map()\n",
    "# Map.addLayer(AOI1)\n",
    "# Map.addLayer(AOI2)\n",
    "# Map.addLayer(SRTM2, {min:1000, max:3000})\n",
    "# Map.addLayer(SRTM1, {min:1000, max:3000})\n",
    "# Map.addLayer(is2_ee)\n",
    "# Map.centerObject(AOI2, zoom=12)\n",
    "# Map"
   ]
  }
 ],
 "metadata": {
  "kernelspec": {
   "display_name": "Python 3 (ipykernel)",
   "language": "python",
   "name": "python3"
  },
  "language_info": {
   "codemirror_mode": {
    "name": "ipython",
    "version": 3
   },
   "file_extension": ".py",
   "mimetype": "text/x-python",
   "name": "python",
   "nbconvert_exporter": "python",
   "pygments_lexer": "ipython3",
   "version": "3.9.10"
  }
 },
 "nbformat": 4,
 "nbformat_minor": 5
}
