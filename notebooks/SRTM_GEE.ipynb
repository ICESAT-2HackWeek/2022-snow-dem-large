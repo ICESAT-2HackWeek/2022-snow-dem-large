{
 "cells": [
  {
   "cell_type": "markdown",
   "id": "9c77554b-f7c1-4df9-a5ad-fccc218d68b9",
   "metadata": {},
   "source": [
    "# Script to extract SRTM elevations over study sites through Google Earth Engine (GEE)\n",
    "\n",
    "Adapted from [2022 ICESat Hackweek notebook](https://github.com/ICESAT-2HackWeek/website2022/blob/main/book/tutorials/DataVisualization/Visualization_Earth_Engine_geemap_IS2_HW_2022.ipynb)"
   ]
  },
  {
   "cell_type": "code",
   "execution_count": 1,
   "id": "c57a7b3f-a2d7-4c2d-b1a3-897153bbd7e8",
   "metadata": {},
   "outputs": [],
   "source": [
    "import os\n",
    "import ee\n",
    "import pandas as pd\n",
    "import geopandas as gpd\n",
    "import geemap\n",
    "import numpy as np\n",
    "from IPython.display import Image\n",
    "import matplotlib.pyplot as plt\n",
    "import h5py\n",
    "from rasterio import plot, warp"
   ]
  },
  {
   "cell_type": "code",
   "execution_count": 2,
   "id": "9b8e1efa-91d8-4023-95ab-08163eba895a",
   "metadata": {},
   "outputs": [],
   "source": [
    "# -----GEE Authentication and Initialization\n",
    "try:\n",
    "    ee.Initialize()\n",
    "except: \n",
    "    ee.Authenticate()\n",
    "    ee.Initialize()"
   ]
  },
  {
   "cell_type": "markdown",
   "id": "429846e9-1e95-48e1-bc86-4153ee995095",
   "metadata": {},
   "source": [
    "### AOI #1: Grand Mesa, CO"
   ]
  },
  {
   "cell_type": "code",
   "execution_count": 3,
   "id": "69e5f9dd-7337-40b1-85df-d4865a0cc5c1",
   "metadata": {},
   "outputs": [
    {
     "data": {
      "text/html": [
       "<img src=\"https://earthengine.googleapis.com/v1alpha/projects/earthengine-legacy/thumbnails/ff97777920c6cf68720e24026a271567-9bdefdf37f876b8ebefe384b72b2985b:getPixels\"/>"
      ],
      "text/plain": [
       "<IPython.core.display.Image object>"
      ]
     },
     "execution_count": 3,
     "metadata": {},
     "output_type": "execute_result"
    }
   ],
   "source": [
    "# -----Create geojson AOI\n",
    "# used geojson.io\n",
    "AOI1 = ee.Geometry({\n",
    "        \"type\": \"Polygon\",\n",
    "        \"coordinates\": [\n",
    "          [\n",
    "            [\n",
    "              -108.24005126953124,\n",
    "              38.884619201291905\n",
    "            ],\n",
    "            [\n",
    "              -107.9,\n",
    "              38.884619201291905\n",
    "            ],\n",
    "            [\n",
    "              -107.9,\n",
    "              39.11727568585598\n",
    "            ],\n",
    "            [\n",
    "              -108.24005126953124,\n",
    "              39.11727568585598\n",
    "            ],\n",
    "            [\n",
    "              -108.24005126953124,\n",
    "              38.884619201291905\n",
    "            ]\n",
    "          ]\n",
    "        ]\n",
    "      })\n",
    "\n",
    "# -----Query for SRTM clip to AOI\n",
    "SRTM1 = ee.Image(\"USGS/SRTMGL1_003\").clip(AOI1)\n",
    "\n",
    "# -----Plot elevations\n",
    "# from: https://developers.google.com/earth-engine/tutorials/community/intro-to-python-api\n",
    "SRTM1_url = SRTM1.getThumbUrl({\n",
    "    'min': 1000, 'max': 5000,\n",
    "    'palette': ['white', 'green']})\n",
    "Image(url=SRTM1_url)"
   ]
  },
  {
   "cell_type": "markdown",
   "id": "9d15454b-d332-4757-8f9a-5cc538df0283",
   "metadata": {},
   "source": [
    "### AOI #2: Mores Creek Summit, ID"
   ]
  },
  {
   "cell_type": "code",
   "execution_count": 4,
   "id": "e04e3c59-33e3-45ee-8260-8e7beff70b82",
   "metadata": {},
   "outputs": [
    {
     "data": {
      "text/html": [
       "<img src=\"https://earthengine.googleapis.com/v1alpha/projects/earthengine-legacy/thumbnails/bdc4e293665207888c733f0e4b9c4334-4f1ed77e58754846b691d08d99c884fa:getPixels\"/>"
      ],
      "text/plain": [
       "<IPython.core.display.Image object>"
      ]
     },
     "execution_count": 4,
     "metadata": {},
     "output_type": "execute_result"
    }
   ],
   "source": [
    "# -----Create geojson AOI\n",
    "# used geojson.io\n",
    "AOI2 = ee.Geometry({\n",
    "        \"type\": \"Polygon\",\n",
    "        \"coordinates\": [\n",
    "          [\n",
    "            [\n",
    "              -115.74131011962889,\n",
    "              43.8855215890078\n",
    "            ],\n",
    "            [\n",
    "              -115.61874389648438,\n",
    "              43.8855215890078\n",
    "            ],\n",
    "            [\n",
    "              -115.61874389648438,\n",
    "              43.963661859597536\n",
    "            ],\n",
    "            [\n",
    "              -115.74131011962889,\n",
    "              43.963661859597536\n",
    "            ],\n",
    "            [\n",
    "              -115.74131011962889,\n",
    "              43.8855215890078\n",
    "            ]\n",
    "          ]\n",
    "        ]\n",
    "      })\n",
    "\n",
    "# -----Query for SRTM clip to AOI\n",
    "SRTM2 = ee.Image(\"USGS/SRTMGL1_003\").clip(AOI2)\n",
    "\n",
    "# -----Plot elevations\n",
    "# from: https://developers.google.com/earth-engine/tutorials/community/intro-to-python-api\n",
    "SRTM2_url = SRTM2.getThumbUrl({\n",
    "    'min': 1000, 'max': 5000,\n",
    "    'palette': ['white', 'green']})\n",
    "Image(url=SRTM2_url)"
   ]
  },
  {
   "cell_type": "code",
   "execution_count": 7,
   "id": "a5d6c221-d367-4bad-b69b-52069cf43678",
   "metadata": {},
   "outputs": [
    {
     "data": {
      "application/vnd.jupyter.widget-view+json": {
       "model_id": "624255e304214a7eaff8301b49833aab",
       "version_major": 2,
       "version_minor": 0
      },
      "text/plain": [
       "Map(center=[40.936019, -112.17966], controls=(WidgetControl(options=['position', 'transparent_bg'], widget=HBo…"
      ]
     },
     "metadata": {},
     "output_type": "display_data"
    }
   ],
   "source": [
    "# -----Create a map\n",
    "Map = geemap.Map()\n",
    "Map.addLayer(AOI1)\n",
    "Map.addLayer(AOI2)\n",
    "Map.addLayer(SRTM2, {min:1000, max:3000})\n",
    "Map.addLayer(SRTM1, {min:1000, max:3000})\n",
    "Map.setCenter(-112.179660, 40.936019, zoom=6)\n",
    "Map"
   ]
  },
  {
   "cell_type": "code",
   "execution_count": 40,
   "id": "d9cda557-15d6-46e7-a8b4-ff58bc7f20e4",
   "metadata": {},
   "outputs": [
    {
     "data": {
      "text/plain": [
       "(array('d', [-115.66415405273438]), array('d', [43.937278747558594]))"
      ]
     },
     "execution_count": 40,
     "metadata": {},
     "output_type": "execute_result"
    }
   ],
   "source": [
    "# -----Practice sampling... \n",
    "# Load some ICESat-2 data, for now we load one track, one beam (GT2R/L)\n",
    "data_path = '/home/jovyan/data/'\n",
    "is2_file = 'processed_ATL08_20200920013522_13240806_005_01.h5' # Sept = snow-off \n",
    "\n",
    "with h5py.File(data_path+is2_file, 'r') as f:\n",
    "    is2_gt2l = pd.DataFrame(data={'lat': f['gt2l/land_segments/latitude'][:],\n",
    "                                 'lon': f['gt2l/land_segments/longitude'][:],\n",
    "                                  'h_te_best_fit': f['gt2l/land_segments/terrain/h_te_best_fit'][:]})\n",
    "\n",
    "# select one of the beams and convert it to a geodataframe\n",
    "gf = gpd.GeoDataFrame(is2_gt2l, geometry=gpd.points_from_xy(is2_gt2l.lon, is2_gt2l.lat), crs='epsg:7661')"
   ]
  },
  {
   "cell_type": "code",
   "execution_count": 46,
   "id": "e3173158-1f2d-4a23-8332-1340fbdaff71",
   "metadata": {},
   "outputs": [
    {
     "data": {
      "text/plain": [
       "{'type': 'FeatureCollection',\n",
       " 'columns': {'system:index': 'String'},\n",
       " 'features': [{'type': 'Feature',\n",
       "   'geometry': {'type': 'Point',\n",
       "    'coordinates': [-115.66415405273438, 43.937278747558594]},\n",
       "   'id': '0',\n",
       "   'properties': {}},\n",
       "  {'type': 'Feature',\n",
       "   'geometry': {'type': 'Point',\n",
       "    'coordinates': [-115.6642837524414, 43.93638229370117]},\n",
       "   'id': '1',\n",
       "   'properties': {}},\n",
       "  {'type': 'Feature',\n",
       "   'geometry': {'type': 'Point',\n",
       "    'coordinates': [-115.6644058227539, 43.93548583984375]},\n",
       "   'id': '2',\n",
       "   'properties': {}},\n",
       "  {'type': 'Feature',\n",
       "   'geometry': {'type': 'Point',\n",
       "    'coordinates': [-115.6645278930664, 43.93458557128906]},\n",
       "   'id': '3',\n",
       "   'properties': {}},\n",
       "  {'type': 'Feature',\n",
       "   'geometry': {'type': 'Point',\n",
       "    'coordinates': [-115.66464233398438, 43.93368911743164]},\n",
       "   'id': '4',\n",
       "   'properties': {}},\n",
       "  {'type': 'Feature',\n",
       "   'geometry': {'type': 'Point',\n",
       "    'coordinates': [-115.66474914550781, 43.93279266357422]},\n",
       "   'id': '5',\n",
       "   'properties': {}},\n",
       "  {'type': 'Feature',\n",
       "   'geometry': {'type': 'Point',\n",
       "    'coordinates': [-115.66485595703125, 43.93189239501953]},\n",
       "   'id': '6',\n",
       "   'properties': {}},\n",
       "  {'type': 'Feature',\n",
       "   'geometry': {'type': 'Point',\n",
       "    'coordinates': [-115.66497039794922, 43.93099594116211]},\n",
       "   'id': '7',\n",
       "   'properties': {}},\n",
       "  {'type': 'Feature',\n",
       "   'geometry': {'type': 'Point',\n",
       "    'coordinates': [-115.66506958007812, 43.93009567260742]},\n",
       "   'id': '8',\n",
       "   'properties': {}},\n",
       "  {'type': 'Feature',\n",
       "   'geometry': {'type': 'Point',\n",
       "    'coordinates': [-115.6651840209961, 43.92919921875]},\n",
       "   'id': '9',\n",
       "   'properties': {}},\n",
       "  {'type': 'Feature',\n",
       "   'geometry': {'type': 'Point',\n",
       "    'coordinates': [-115.66527557373047, 43.92829895019531]},\n",
       "   'id': '10',\n",
       "   'properties': {}},\n",
       "  {'type': 'Feature',\n",
       "   'geometry': {'type': 'Point',\n",
       "    'coordinates': [-115.66539001464844, 43.92740249633789]},\n",
       "   'id': '11',\n",
       "   'properties': {}},\n",
       "  {'type': 'Feature',\n",
       "   'geometry': {'type': 'Point',\n",
       "    'coordinates': [-115.6655044555664, 43.9265022277832]},\n",
       "   'id': '12',\n",
       "   'properties': {}},\n",
       "  {'type': 'Feature',\n",
       "   'geometry': {'type': 'Point',\n",
       "    'coordinates': [-115.66561126708984, 43.92560577392578]},\n",
       "   'id': '13',\n",
       "   'properties': {}},\n",
       "  {'type': 'Feature',\n",
       "   'geometry': {'type': 'Point',\n",
       "    'coordinates': [-115.66572570800781, 43.924705505371094]},\n",
       "   'id': '14',\n",
       "   'properties': {}},\n",
       "  {'type': 'Feature',\n",
       "   'geometry': {'type': 'Point',\n",
       "    'coordinates': [-115.66584014892578, 43.92380905151367]},\n",
       "   'id': '15',\n",
       "   'properties': {}},\n",
       "  {'type': 'Feature',\n",
       "   'geometry': {'type': 'Point',\n",
       "    'coordinates': [-115.66595458984375, 43.92291259765625]},\n",
       "   'id': '16',\n",
       "   'properties': {}},\n",
       "  {'type': 'Feature',\n",
       "   'geometry': {'type': 'Point',\n",
       "    'coordinates': [-115.66606903076172, 43.92201232910156]},\n",
       "   'id': '17',\n",
       "   'properties': {}},\n",
       "  {'type': 'Feature',\n",
       "   'geometry': {'type': 'Point',\n",
       "    'coordinates': [-115.66617584228516, 43.92111587524414]},\n",
       "   'id': '18',\n",
       "   'properties': {}},\n",
       "  {'type': 'Feature',\n",
       "   'geometry': {'type': 'Point',\n",
       "    'coordinates': [-115.66626739501953, 43.92021560668945]},\n",
       "   'id': '19',\n",
       "   'properties': {}},\n",
       "  {'type': 'Feature',\n",
       "   'geometry': {'type': 'Point',\n",
       "    'coordinates': [-115.66639709472656, 43.91931915283203]},\n",
       "   'id': '20',\n",
       "   'properties': {}}]}"
      ]
     },
     "execution_count": 46,
     "metadata": {},
     "output_type": "execute_result"
    }
   ],
   "source": [
    "# -----function to convert pandas GeoDataFrame to ee.FeatureCollection\n",
    "from functools import reduce\n",
    "def feature2ee(gdf):\n",
    "\n",
    "    g = [i for i in gdf.geometry]\n",
    "    features=[]\n",
    "    #for Point geo data type\n",
    "    if (gdf.geom_type[0] == 'Point'):\n",
    "        for i in range(len(g)):\n",
    "            g = [i for i in gdf.geometry]\n",
    "            x,y = g[i].coords.xy\n",
    "            cords = np.dstack((x,y)).tolist()\n",
    "            double_list = reduce(lambda x,y: x+y, cords)\n",
    "            single_list = reduce(lambda x,y: x+y, double_list)\n",
    "               \n",
    "            g=ee.Geometry.Point(single_list)\n",
    "            feature = ee.Feature(g)\n",
    "            features.append(feature)\n",
    "\n",
    "        ee_object = ee.FeatureCollection(features)\n",
    "        return ee_object\n",
    "        \n",
    "# convert SRTM ee.Image to pd.DataFrame\n",
    "is_ee = feature2ee(gf)\n",
    "is_ee.getInfo()"
   ]
  },
  {
   "cell_type": "code",
   "execution_count": 57,
   "id": "58ea9e21-80d5-441a-ba53-45b08798280b",
   "metadata": {},
   "outputs": [
    {
     "data": {
      "text/plain": [
       "<ee.featurecollection.FeatureCollection at 0x7fab6e2cb490>"
      ]
     },
     "execution_count": 57,
     "metadata": {},
     "output_type": "execute_result"
    }
   ],
   "source": [
    "# -----sample SRTM at features\n",
    "SRTM1_sample = SRTM1.sampleRegions(is_ee)\n",
    "SRTM1_sample"
   ]
  },
  {
   "cell_type": "code",
   "execution_count": null,
   "id": "471f4061-b119-4ccf-974f-1fc54b5b93f0",
   "metadata": {},
   "outputs": [],
   "source": []
  }
 ],
 "metadata": {
  "kernelspec": {
   "display_name": "Python 3 (ipykernel)",
   "language": "python",
   "name": "python3"
  },
  "language_info": {
   "codemirror_mode": {
    "name": "ipython",
    "version": 3
   },
   "file_extension": ".py",
   "mimetype": "text/x-python",
   "name": "python",
   "nbconvert_exporter": "python",
   "pygments_lexer": "ipython3",
   "version": "3.9.10"
  }
 },
 "nbformat": 4,
 "nbformat_minor": 5
}
