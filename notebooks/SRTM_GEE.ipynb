{
 "cells": [
  {
   "cell_type": "markdown",
   "id": "9c77554b-f7c1-4df9-a5ad-fccc218d68b9",
   "metadata": {},
   "source": [
    "# Script to extract SRTM elevations over study sites through Google Earth Engine (GEE)\n",
    "\n",
    "Adapted from [2022 ICESat Hackweek notebook](https://github.com/ICESAT-2HackWeek/website2022/blob/main/book/tutorials/DataVisualization/Visualization_Earth_Engine_geemap_IS2_HW_2022.ipynb)\n",
    "\n",
    "To-Do:\n",
    "- Export SRTM images as dataframe/pckl file?"
   ]
  },
  {
   "cell_type": "code",
   "execution_count": 37,
   "id": "c57a7b3f-a2d7-4c2d-b1a3-897153bbd7e8",
   "metadata": {},
   "outputs": [],
   "source": [
    "import os\n",
    "import ee\n",
    "import pandas as pd\n",
    "import geemap\n",
    "import numpy as np\n",
    "from IPython.display import Image\n",
    "import matplotlib.pyplot as plt\n",
    "from rasterio import plot, warp"
   ]
  },
  {
   "cell_type": "code",
   "execution_count": 2,
   "id": "9b8e1efa-91d8-4023-95ab-08163eba895a",
   "metadata": {},
   "outputs": [],
   "source": [
    "# -----GEE Authentication and Initialization\n",
    "try:\n",
    "    ee.Initialize()\n",
    "except: \n",
    "    ee.Authenticate()\n",
    "    ee.Initialize()"
   ]
  },
  {
   "cell_type": "markdown",
   "id": "429846e9-1e95-48e1-bc86-4153ee995095",
   "metadata": {},
   "source": [
    "### AOI #1: Grand Mesa, CO"
   ]
  },
  {
   "cell_type": "code",
   "execution_count": 46,
   "id": "69e5f9dd-7337-40b1-85df-d4865a0cc5c1",
   "metadata": {},
   "outputs": [
    {
     "data": {
      "text/html": [
       "<img src=\"https://earthengine.googleapis.com/v1alpha/projects/earthengine-legacy/thumbnails/ff97777920c6cf68720e24026a271567-0176d8687b14ce58547e0b1ed4b24f98:getPixels\"/>"
      ],
      "text/plain": [
       "<IPython.core.display.Image object>"
      ]
     },
     "execution_count": 46,
     "metadata": {},
     "output_type": "execute_result"
    }
   ],
   "source": [
    "# -----Create geojson AOI\n",
    "# used geojson.io\n",
    "AOI1 = ee.Geometry({\n",
    "        \"type\": \"Polygon\",\n",
    "        \"coordinates\": [\n",
    "          [\n",
    "            [\n",
    "              -108.24005126953124,\n",
    "              38.884619201291905\n",
    "            ],\n",
    "            [\n",
    "              -107.9,\n",
    "              38.884619201291905\n",
    "            ],\n",
    "            [\n",
    "              -107.9,\n",
    "              39.11727568585598\n",
    "            ],\n",
    "            [\n",
    "              -108.24005126953124,\n",
    "              39.11727568585598\n",
    "            ],\n",
    "            [\n",
    "              -108.24005126953124,\n",
    "              38.884619201291905\n",
    "            ]\n",
    "          ]\n",
    "        ]\n",
    "      })\n",
    "\n",
    "# -----Query for SRTM clip to AOI\n",
    "SRTM1 = ee.Image(\"USGS/SRTMGL1_003\").clip(AOI1)\n",
    "\n",
    "# -----Plot elevations\n",
    "# from: https://developers.google.com/earth-engine/tutorials/community/intro-to-python-api\n",
    "SRTM1_url = SRTM1.getThumbUrl({\n",
    "    'min': 1000, 'max': 5000,\n",
    "    'palette': ['white', 'green']})\n",
    "Image(url=SRTM1_url)"
   ]
  },
  {
   "cell_type": "markdown",
   "id": "9d15454b-d332-4757-8f9a-5cc538df0283",
   "metadata": {},
   "source": [
    "### AOI #2: Mores Creek Summit, ID"
   ]
  },
  {
   "cell_type": "code",
   "execution_count": 42,
   "id": "e04e3c59-33e3-45ee-8260-8e7beff70b82",
   "metadata": {},
   "outputs": [
    {
     "data": {
      "text/html": [
       "<img src=\"https://earthengine.googleapis.com/v1alpha/projects/earthengine-legacy/thumbnails/bdc4e293665207888c733f0e4b9c4334-0762676146de74934fdb5893fdbea81a:getPixels\"/>"
      ],
      "text/plain": [
       "<IPython.core.display.Image object>"
      ]
     },
     "execution_count": 42,
     "metadata": {},
     "output_type": "execute_result"
    }
   ],
   "source": [
    "# -----Create geojson AOI\n",
    "# used geojson.io\n",
    "AOI2 = ee.Geometry({\n",
    "        \"type\": \"Polygon\",\n",
    "        \"coordinates\": [\n",
    "          [\n",
    "            [\n",
    "              -115.74131011962889,\n",
    "              43.8855215890078\n",
    "            ],\n",
    "            [\n",
    "              -115.61874389648438,\n",
    "              43.8855215890078\n",
    "            ],\n",
    "            [\n",
    "              -115.61874389648438,\n",
    "              43.963661859597536\n",
    "            ],\n",
    "            [\n",
    "              -115.74131011962889,\n",
    "              43.963661859597536\n",
    "            ],\n",
    "            [\n",
    "              -115.74131011962889,\n",
    "              43.8855215890078\n",
    "            ]\n",
    "          ]\n",
    "        ]\n",
    "      })\n",
    "\n",
    "# -----Query for SRTM clip to AOI\n",
    "SRTM2 = ee.Image(\"USGS/SRTMGL1_003\").clip(AOI2)\n",
    "\n",
    "# -----Plot elevations\n",
    "# from: https://developers.google.com/earth-engine/tutorials/community/intro-to-python-api\n",
    "SRTM2_url = SRTM2.getThumbUrl({\n",
    "    'min': 1000, 'max': 5000,\n",
    "    'palette': ['white', 'green']})\n",
    "Image(url=SRTM2_url)"
   ]
  },
  {
   "cell_type": "code",
   "execution_count": 51,
   "id": "a5d6c221-d367-4bad-b69b-52069cf43678",
   "metadata": {},
   "outputs": [
    {
     "data": {
      "application/vnd.jupyter.widget-view+json": {
       "model_id": "9d0815f4c29742e5a6c452ef19763a8f",
       "version_major": 2,
       "version_minor": 0
      },
      "text/plain": [
       "Map(center=[40.936019, -112.17966], controls=(WidgetControl(options=['position', 'transparent_bg'], widget=HBo…"
      ]
     },
     "metadata": {},
     "output_type": "display_data"
    }
   ],
   "source": [
    "# -----Create a map\n",
    "Map = geemap.Map()\n",
    "Map.addLayer(AOI1)\n",
    "Map.addLayer(AOI2)\n",
    "Map.addLayer(SRTM2, {min:1000, max:3000})\n",
    "Map.addLayer(SRTM1, {min:1000, max:3000})\n",
    "Map.setCenter(-112.179660, 40.936019, zoom=6)\n",
    "Map"
   ]
  },
  {
   "cell_type": "code",
   "execution_count": 29,
   "id": "d9cda557-15d6-46e7-a8b4-ff58bc7f20e4",
   "metadata": {},
   "outputs": [],
   "source": [
    "# Sample at ICESat-2 tracks\n",
    "# ..."
   ]
  }
 ],
 "metadata": {
  "kernelspec": {
   "display_name": "Python 3 (ipykernel)",
   "language": "python",
   "name": "python3"
  },
  "language_info": {
   "codemirror_mode": {
    "name": "ipython",
    "version": 3
   },
   "file_extension": ".py",
   "mimetype": "text/x-python",
   "name": "python",
   "nbconvert_exporter": "python",
   "pygments_lexer": "ipython3",
   "version": "3.9.10"
  }
 },
 "nbformat": 4,
 "nbformat_minor": 5
}
