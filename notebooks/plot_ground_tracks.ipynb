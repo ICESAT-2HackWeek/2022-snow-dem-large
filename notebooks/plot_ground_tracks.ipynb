{
 "cells": [
  {
   "cell_type": "markdown",
   "id": "f0716044-fef4-40a1-bb66-98ddbe9394ca",
   "metadata": {},
   "source": [
    "### Plot ground track of ATL06 file"
   ]
  },
  {
   "cell_type": "code",
   "execution_count": 2,
   "id": "f44670d6-67a7-4ad9-9218-00a11801cf73",
   "metadata": {},
   "outputs": [],
   "source": [
    "import h5py\n",
    "import pandas as pd"
   ]
  },
  {
   "cell_type": "code",
   "execution_count": 6,
   "id": "e6633710-4f38-49be-b199-1c5aeff654e3",
   "metadata": {},
   "outputs": [],
   "source": [
    "# area of intrest extent:\n",
    "AOI_C = (39, -108)\n",
    "AOI_bounds=(( 39.11727568585598,-107.9),( 38.884619201291905,-108.24005126953124))\n",
    "\n",
    "\n",
    "data_fld='/home/jovyan/data/'\n",
    "\n",
    "\n",
    "# Load the ICESat-2 data. We will just look at the central beams (GT2R/L)\n",
    "is2_file = 'ATL08_20201111102237_07370902_005_01.h5'\n",
    "\n",
    "with h5py.File(data_fld+is2_file, 'r') as f:\n",
    "    is2_gt2r = pd.DataFrame(data={'lat': f['gt2r/land_segments/latitude'][:],\n",
    "                                  'lon': f['gt2r/land_segments/longitude'][:],\n",
    "                                  'elev': f['gt2r/land_segments/terrain/h_te_best_fit'][:]})\n",
    "    is2_gt2l = pd.DataFrame(data={'lat': f['gt2l/land_segments/latitude'][:],\n",
    "                                  'lon': f['gt2l/land_segments/longitude'][:],\n",
    "                                  'elev': f['gt2l/land_segments/terrain/h_te_best_fit'][:]})"
   ]
  },
  {
   "cell_type": "code",
   "execution_count": 7,
   "id": "03d4433c-8b87-4ab1-b9e8-0e7bc6b92b2b",
   "metadata": {},
   "outputs": [
    {
     "data": {
      "application/vnd.jupyter.widget-view+json": {
       "model_id": "54feb32cab3a42e3980c900da2d164de",
       "version_major": 2,
       "version_minor": 0
      },
      "text/plain": [
       "Map(center=[39, -108], controls=(ZoomControl(options=['position', 'zoom_in_text', 'zoom_in_title', 'zoom_out_t…"
      ]
     },
     "metadata": {},
     "output_type": "display_data"
    }
   ],
   "source": [
    "from ipyleaflet import Map, basemaps, basemap_to_tiles, Polyline, Rectangle\n",
    "# Set up a map with the flight tracks as overlays\n",
    "\n",
    "m = Map(\n",
    "    basemap=basemap_to_tiles(basemaps.Esri.WorldImagery),\n",
    "    center=AOI_C,\n",
    "    zoom=11\n",
    ")\n",
    "\n",
    "rectangle = Rectangle(bounds=AOI_bounds)\n",
    "m.add_layer(rectangle)\n",
    "\n",
    "\n",
    "gt2r_line = Polyline(\n",
    "    locations=[\n",
    "        [is2_gt2r['lat'].min(), is2_gt2r['lon'].max()],\n",
    "        [is2_gt2r['lat'].max(), is2_gt2r['lon'].min()]\n",
    "    ],\n",
    "    color=\"green\" ,\n",
    "    fill=False\n",
    ")\n",
    "m.add_layer(gt2r_line)\n",
    "\n",
    "gt2l_line = Polyline(\n",
    "    locations=[\n",
    "        [is2_gt2l['lat'].min(), is2_gt2l['lon'].max()],\n",
    "        [is2_gt2l['lat'].max(), is2_gt2l['lon'].min()]\n",
    "    ],\n",
    "    color=\"red\" ,\n",
    "    fill=False\n",
    ")\n",
    "m.add_layer(gt2l_line)\n",
    "\n",
    "\n",
    "m"
   ]
  }
 ],
 "metadata": {
  "kernelspec": {
   "display_name": "Python 3 (ipykernel)",
   "language": "python",
   "name": "python3"
  },
  "language_info": {
   "codemirror_mode": {
    "name": "ipython",
    "version": 3
   },
   "file_extension": ".py",
   "mimetype": "text/x-python",
   "name": "python",
   "nbconvert_exporter": "python",
   "pygments_lexer": "ipython3",
   "version": "3.9.10"
  }
 },
 "nbformat": 4,
 "nbformat_minor": 5
}
