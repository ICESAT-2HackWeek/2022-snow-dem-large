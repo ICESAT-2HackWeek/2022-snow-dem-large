{
 "cells": [
  {
   "cell_type": "markdown",
   "id": "f0716044-fef4-40a1-bb66-98ddbe9394ca",
   "metadata": {},
   "source": [
    "### Plot ground track of ATL06 file"
   ]
  },
  {
   "cell_type": "code",
   "execution_count": 2,
   "id": "e46cf57d-d20f-405e-8911-8b4b3abc565d",
   "metadata": {},
   "outputs": [],
   "source": [
    "import h5py\n",
    "import pandas as pd"
   ]
  },
  {
   "cell_type": "code",
   "execution_count": 1,
   "id": "85948f48-16b7-447b-92ea-63ca33ba9ddb",
   "metadata": {},
   "outputs": [],
   "source": [
    "import sys\n",
    "import os\n",
    "sys.path.insert(0, '../scripts/')\n",
    "from helpers import get_gt_from_file"
   ]
  },
  {
   "cell_type": "code",
   "execution_count": 3,
   "id": "e6633710-4f38-49be-b199-1c5aeff654e3",
   "metadata": {},
   "outputs": [],
   "source": [
    "# area of intrest extent:\n",
    "AOI_C = (39, -108)\n",
    "AOI_bounds=(( 39.11727568585598,-107.9),( 38.884619201291905,-108.24005126953124))\n",
    "\n",
    "\n",
    "data_fld='/home/jovyan/data/'\n",
    "data_files=os.listdir(data_fld)\n",
    "\n",
    "\n",
    "# Load the ICESat-2 data. We will just look at the central beams (GT2R/L)\n",
    "is2_file = data_files[0]\n",
    "\n",
    "with h5py.File(data_fld+is2_file, 'r') as f:\n",
    "    is2_gt2r = get_gt_from_file(f,'gt2r')\n",
    "    is2_gt1r = get_gt_from_file(f,'gt1r')\n",
    "    is2_gt3r = get_gt_from_file(f,'gt3r')"
   ]
  },
  {
   "cell_type": "code",
   "execution_count": 10,
   "id": "03d4433c-8b87-4ab1-b9e8-0e7bc6b92b2b",
   "metadata": {},
   "outputs": [
    {
     "data": {
      "application/vnd.jupyter.widget-view+json": {
       "model_id": "ed539b7f8a584a13baf3b26e50851bb2",
       "version_major": 2,
       "version_minor": 0
      },
      "text/plain": [
       "Map(center=[39, -108], controls=(ZoomControl(options=['position', 'zoom_in_text', 'zoom_in_title', 'zoom_out_t…"
      ]
     },
     "metadata": {},
     "output_type": "display_data"
    }
   ],
   "source": [
    "from ipyleaflet import Map, basemaps, basemap_to_tiles, Polyline, Rectangle\n",
    "# Set up a map with the flight tracks as overlays\n",
    "\n",
    "m = Map(\n",
    "    basemap=basemap_to_tiles(basemaps.Esri.WorldImagery),\n",
    "    center=AOI_C,\n",
    "    zoom=11\n",
    ")\n",
    "\n",
    "rectangle = Rectangle(bounds=AOI_bounds)\n",
    "m.add_layer(rectangle)\n",
    "\n",
    "\n",
    "gt2r_line = Polyline(\n",
    "    locations=[\n",
    "        [is2_gt2r['lat'].min(), is2_gt2r['lon'].max()],\n",
    "        [is2_gt2r['lat'].max(), is2_gt2r['lon'].min()]\n",
    "    ],\n",
    "    color=\"green\" ,\n",
    "    fill=False\n",
    ")\n",
    "m.add_layer(gt2r_line)\n",
    "\n",
    "gt1r_line = Polyline(\n",
    "    locations=[\n",
    "        [is2_gt1r['lat'].min(), is2_gt1r['lon'].max()],\n",
    "        [is2_gt1r['lat'].max(), is2_gt1r['lon'].min()]\n",
    "    ],\n",
    "    color=\"red\" ,\n",
    "    fill=False\n",
    ")\n",
    "m.add_layer(gt1r_line)\n",
    "\n",
    "gt3r_line = Polyline(\n",
    "    locations=[\n",
    "        [is2_gt3r['lat'].min(), is2_gt3r['lon'].max()],\n",
    "        [is2_gt3r['lat'].max(), is2_gt3r['lon'].min()]\n",
    "    ],\n",
    "    color=\"purple\" ,\n",
    "    fill=False\n",
    ")\n",
    "m.add_layer(gt3r_line)\n",
    "\n",
    "m"
   ]
  },
  {
   "cell_type": "code",
   "execution_count": null,
   "id": "cf7b692c-0ed0-40bb-8ea0-285967868575",
   "metadata": {},
   "outputs": [],
   "source": []
  }
 ],
 "metadata": {
  "kernelspec": {
   "display_name": "Python 3 (ipykernel)",
   "language": "python",
   "name": "python3"
  },
  "language_info": {
   "codemirror_mode": {
    "name": "ipython",
    "version": 3
   },
   "file_extension": ".py",
   "mimetype": "text/x-python",
   "name": "python",
   "nbconvert_exporter": "python",
   "pygments_lexer": "ipython3",
   "version": "3.9.10"
  }
 },
 "nbformat": 4,
 "nbformat_minor": 5
}
