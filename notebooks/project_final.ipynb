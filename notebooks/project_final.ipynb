{
 "cells": [
  {
   "cell_type": "markdown",
   "id": "bfbcf6f8-cb96-43bc-b222-679c192dbc9f",
   "metadata": {
    "tags": []
   },
   "source": [
    "<h1>1. Load ICESat-2 data from file</h1>"
   ]
  },
  {
   "cell_type": "code",
   "execution_count": null,
   "id": "83e220f8-871d-4bf7-9e6c-27a52b52fba5",
   "metadata": {},
   "outputs": [],
   "source": [
    "import icepyx as ipx\n",
    "%matplotlib inline\n",
    "%matplotlib widget"
   ]
  },
  {
   "cell_type": "markdown",
   "id": "7b63e35a-6930-4f61-b5b1-2e2a54cc4688",
   "metadata": {},
   "source": [
    "Set output path"
   ]
  },
  {
   "cell_type": "code",
   "execution_count": null,
   "id": "05e27207-1eab-41eb-8575-039437efe05f",
   "metadata": {},
   "outputs": [],
   "source": [
    "# -----Determine where output files will be saved-----\n",
    "output_path = '/ice_sat_2/'\n",
    "\n",
    "# -----Manually enter Earthdata login info-----\n",
    "earthdata_uid = input('Earthdata user ID: ')\n",
    "email = input('Email: ')"
   ]
  },
  {
   "cell_type": "markdown",
   "id": "3a823a92-00cd-4856-b620-3b60c4eac37a",
   "metadata": {},
   "source": [
    "Define search parameters"
   ]
  },
  {
   "cell_type": "code",
   "execution_count": null,
   "id": "7bceb750-f645-4f5a-9583-d434332f5849",
   "metadata": {},
   "outputs": [],
   "source": [
    "# -----define search parameters-----\n",
    "# ICESAT-2 data product name\n",
    "short_name = 'ATL08'\n",
    "# bounding box\n",
    "spatial_extent = [-108.24005126953124, 38.884619201291905, -107.9, 39.11727568585598]\n",
    "# date range\n",
    "date_range = ['2020-09-01','2021-05-31']\n",
    "\n",
    "# -----create the data object using our inputs-----\n",
    "AOI_1 = ipx.Query(short_name, spatial_extent, date_range)\n",
    "\n",
    "# -----log into Earthdata-----\n",
    "AOI_1.earthdata_login(earthdata_uid, email)\n",
    "\n",
    "# -----view query results-----\n",
    "print('Query results:')\n",
    "print(AOI_1.product)\n",
    "print(AOI_1.dates)\n",
    "print(AOI_1.start_time)\n",
    "print(AOI_1.end_time)\n",
    "print(AOI_1.cycles)\n",
    "print(AOI_1.tracks)\n",
    "print(AOI_1.product_version)\n",
    "print('\\nAvailable granules:')\n",
    "print(AOI_1.avail_granules())\n",
    "print(AOI_1.avail_granules(ids=True))\n",
    "\n",
    "# -----build and view the parameters that will be submitted in query-----\n",
    "print('CMR parameters:')\n",
    "print(AOI_1.CMRparams)\n",
    "\n",
    "# -----plot bounding box on map with approximate SnowEx location-----\n",
    "AOI_1.visualize_spatial_extent()"
   ]
  },
  {
   "cell_type": "markdown",
   "id": "0fb57bc3-cf73-4380-9c63-2b6151b3760f",
   "metadata": {},
   "source": [
    "Subset and Order granules"
   ]
  },
  {
   "cell_type": "code",
   "execution_count": null,
   "id": "d4278db8-724f-47b9-8adf-c6a7ebdace62",
   "metadata": {},
   "outputs": [],
   "source": [
    "# -----subset results-----\n",
    "AOI_1.subsetparams()\n",
    "\n",
    "# -----order granules-----\n",
    "AOI_1.order_granules()\n",
    "\n",
    "# -----view order IDs-----\n",
    "print('\\nOrder ID:')\n",
    "AOI_1.granules.orderIDs"
   ]
  },
  {
   "cell_type": "markdown",
   "id": "953ebedc-3d16-4877-a9c0-f7dd8846f55f",
   "metadata": {},
   "source": [
    "Download granules to output_path"
   ]
  },
  {
   "cell_type": "code",
   "execution_count": 1,
   "id": "0b89909d-70a9-4cd2-b346-18a7e97a152c",
   "metadata": {},
   "outputs": [
    {
     "ename": "NameError",
     "evalue": "name 'AOI_1' is not defined",
     "output_type": "error",
     "traceback": [
      "\u001b[0;31m---------------------------------------------------------------------------\u001b[0m",
      "\u001b[0;31mNameError\u001b[0m                                 Traceback (most recent call last)",
      "Input \u001b[0;32mIn [1]\u001b[0m, in \u001b[0;36m<cell line: 1>\u001b[0;34m()\u001b[0m\n\u001b[0;32m----> 1\u001b[0m \u001b[43mAOI_1\u001b[49m\u001b[38;5;241m.\u001b[39mdownload_granules(output_path)\n",
      "\u001b[0;31mNameError\u001b[0m: name 'AOI_1' is not defined"
     ]
    }
   ],
   "source": [
    "AOI_1.download_granules(output_path)"
   ]
  },
  {
   "cell_type": "markdown",
   "id": "9f85976f-3e60-4dc9-9558-03641034a148",
   "metadata": {
    "tags": []
   },
   "source": [
    "<h1>2. Load DEMs</h1>"
   ]
  },
  {
   "cell_type": "markdown",
   "id": "aa3c291d-77b4-4518-a3f2-c4788b6b4e7a",
   "metadata": {},
   "source": [
    "<h3>a. Copernicus</h2>"
   ]
  },
  {
   "cell_type": "code",
   "execution_count": null,
   "id": "e1ee17af-630c-4006-8512-4f6bad683eb2",
   "metadata": {},
   "outputs": [],
   "source": [
    "CopDEM = rioxarray.open_rasterio('https://opentopography.s3.sdsc.edu/raster/COP30/COP30_hh.vrt', \n",
    "                              chunks=True, # ensure we use dask to only read metadata\n",
    "                             )\n",
    "\n",
    "# Crop by Bounding box of all the ATL08 points\n",
    "minx, miny, maxx, maxy = gf.unary_union.envelope.bounds # got a depreciation warning with cascaded_union\n",
    "CopDEM = CopDEM.rio.clip_box(minx, miny, maxx, maxy)\n"
   ]
  },
  {
   "cell_type": "markdown",
   "id": "a4612f04-64fb-4e7a-82f9-aafd23b1b526",
   "metadata": {},
   "source": [
    "<h3>b. SRTM</h3>"
   ]
  },
  {
   "cell_type": "code",
   "execution_count": 3,
   "id": "3a9a4278-1116-4562-96fb-1ba9fae8e502",
   "metadata": {},
   "outputs": [],
   "source": [
    "import os\n",
    "import ee\n",
    "import pandas as pd\n",
    "import geopandas as gpd\n",
    "import geemap\n",
    "import numpy as np\n",
    "from IPython.display import Image\n",
    "import matplotlib.pyplot as plt\n",
    "import h5py\n",
    "from rasterio import plot, warp"
   ]
  },
  {
   "cell_type": "code",
   "execution_count": null,
   "id": "2c43bc92-595b-4b8f-8c6c-a39f176e7932",
   "metadata": {},
   "outputs": [
    {
     "data": {
      "text/html": [
       "<p>To authorize access needed by Earth Engine, open the following\n",
       "        URL in a web browser and follow the instructions:</p>\n",
       "        <p><a href=https://accounts.google.com/o/oauth2/auth?client_id=517222506229-vsmmajv00ul0bs7p89v5m89qs8eb9359.apps.googleusercontent.com&scope=https%3A%2F%2Fwww.googleapis.com%2Fauth%2Fearthengine+https%3A%2F%2Fwww.googleapis.com%2Fauth%2Fdevstorage.full_control&redirect_uri=urn%3Aietf%3Awg%3Aoauth%3A2.0%3Aoob&response_type=code&code_challenge=Rfr_a9prZ1CuvI2CndP_DgpWZCOuhWA4_pywqI8UTrw&code_challenge_method=S256>https://accounts.google.com/o/oauth2/auth?client_id=517222506229-vsmmajv00ul0bs7p89v5m89qs8eb9359.apps.googleusercontent.com&scope=https%3A%2F%2Fwww.googleapis.com%2Fauth%2Fearthengine+https%3A%2F%2Fwww.googleapis.com%2Fauth%2Fdevstorage.full_control&redirect_uri=urn%3Aietf%3Awg%3Aoauth%3A2.0%3Aoob&response_type=code&code_challenge=Rfr_a9prZ1CuvI2CndP_DgpWZCOuhWA4_pywqI8UTrw&code_challenge_method=S256</a></p>\n",
       "        <p>The authorization workflow will generate a code, which you\n",
       "        should paste in the box below</p>\n",
       "        "
      ],
      "text/plain": [
       "<IPython.core.display.HTML object>"
      ]
     },
     "metadata": {},
     "output_type": "display_data"
    }
   ],
   "source": [
    "# -----GEE Authentication and Initialization\n",
    "try:\n",
    "    ee.Initialize()\n",
    "except: \n",
    "    ee.Authenticate()\n",
    "    ee.Initialize()"
   ]
  },
  {
   "cell_type": "markdown",
   "id": "3888ea66-74d5-4a9a-8e91-bda2030ecca8",
   "metadata": {},
   "source": [
    "Extract SRTM elevations for AOI #1: Grand Mesa, CO"
   ]
  },
  {
   "cell_type": "code",
   "execution_count": null,
   "id": "a1bc6f03-9ea1-4a0d-9ce5-7ae48ce467bc",
   "metadata": {},
   "outputs": [],
   "source": [
    "# -----Create geojson AOI\n",
    "# used geojson.io\n",
    "AOI1 = ee.Geometry({\"type\": \"Polygon\",\"coordinates\": \n",
    "                    [[[-108.24005126953124,38.884619201291905],\n",
    "                      [-107.9,38.884619201291905],\n",
    "                      [-107.9,39.11727568585598],\n",
    "                      [-108.24005126953124,39.11727568585598],\n",
    "                      [-108.24005126953124,38.884619201291905]]\n",
    "                    ]})\n",
    "\n",
    "# -----Query for SRTM, clip to AOI\n",
    "SRTM1 = ee.Image(\"USGS/SRTMGL1_003\").clip(AOI1)\n",
    "\n",
    "# -----Plot elevations\n",
    "# from: https://developers.google.com/earth-engine/tutorials/community/intro-to-python-api\n",
    "SRTM1_url = SRTM1.getThumbUrl({\n",
    "    'min': 0, 'max': 6000,\n",
    "    'palette': ['white', 'green']})\n",
    "Image(url=SRTM1_url)"
   ]
  },
  {
   "cell_type": "code",
   "execution_count": null,
   "id": "296c8cf2-19a6-4283-8e7f-9817ccbc9004",
   "metadata": {},
   "outputs": [],
   "source": [
    "# -----Load snow-off ICESat-2 track\n",
    "data_path = '/home/jovyan/data/'\n",
    "is2_file = 'processed_ATL08_20200920013522_13240806_005_01.h5' # Sept = snow-off \n",
    "\n",
    "with h5py.File(data_path+is2_file, 'r') as f:\n",
    "    is2_gt2l = pd.DataFrame(data={'lat': f['gt2l/land_segments/latitude'][:],\n",
    "                                 'lon': f['gt2l/land_segments/longitude'][:],\n",
    "                                  'h_te_best_fit': f['gt2l/land_segments/terrain/h_te_best_fit'][:]})\n",
    "\n",
    "# select one of the beams and convert it to a geodataframe\n",
    "is2_gdf = gpd.GeoDataFrame(is2_gt2l, geometry=gpd.points_from_xy(is2_gt2l.lon, is2_gt2l.lat), crs='epsg:7661')\n",
    "is2_gdf.head()"
   ]
  },
  {
   "cell_type": "code",
   "execution_count": null,
   "id": "b671fcc3-6db3-46d9-a8e6-011c64785370",
   "metadata": {},
   "outputs": [],
   "source": [
    "# -----function to convert pandas GeoDataFrame to ee.FeatureCollection\n",
    "from functools import reduce\n",
    "def feature2ee(gdf):\n",
    "    g = [i for i in gdf.geometry]\n",
    "    features=[]\n",
    "    #for Point geo data type\n",
    "    if (gdf.geom_type[0] == 'Point'):\n",
    "        for i in range(len(g)):\n",
    "            g = [i for i in gdf.geometry]\n",
    "            x,y = g[i].coords.xy\n",
    "            cords = np.dstack((x,y)).tolist()\n",
    "            double_list = reduce(lambda x,y: x+y, cords)\n",
    "            single_list = reduce(lambda x,y: x+y, double_list)\n",
    "            g=ee.Geometry.Point(single_list)\n",
    "            feature = ee.Feature(g)\n",
    "            features.append(feature)\n",
    "        ee_object = ee.FeatureCollection(features)\n",
    "        return ee_object"
   ]
  },
  {
   "cell_type": "code",
   "execution_count": null,
   "id": "7632c9b2-8cac-4626-b56e-5e4854a9909d",
   "metadata": {},
   "outputs": [],
   "source": [
    "# -----convert ICESat-2 gdf to ee.FeatureCollection\n",
    "is2_ee = feature2ee(is2_gdf)\n",
    "is2_ee.getInfo();\n",
    "\n",
    "# -----sample SRTM elevation at ICESat-2 coordinates\n",
    "SRTM2_sample = ee.FeatureCollection(SRTM2.sample(is2_ee))\n",
    "SRTM2_sample_gdf = geemap.ee_to_geopandas(SRTM2_sample, selectors=['elevation'])\n",
    "SRTM2_sample_gdf['lon'] = is2_gdf['lon']\n",
    "SRTM2_sample_gdf['lat'] = is2_gdf['lat']\n",
    "\n",
    "# -----calculate elevation difference\n",
    "snow_off_diff = is2_gdf['h_te_best_fit'] - SRTM2_sample_gdf['elevation']"
   ]
  },
  {
   "cell_type": "code",
   "execution_count": null,
   "id": "122f6952-059a-4bfa-b6c9-dc2404a33c09",
   "metadata": {},
   "outputs": [],
   "source": [
    "# -----plot\n",
    "# SRTM & ICESat-2 elevations\n",
    "fig, (ax1, ax2) = plt.subplots(2, 1, figsize=(12, 6))\n",
    "ax1.plot(SRTM2_sample_gdf['lat'], \n",
    "         SRTM2_sample_gdf['elevation'], color='blue', label='SRTM')\n",
    "ax1.plot(SRTM2_sample_gdf['lat'],\n",
    "         is2_gdf['h_te_best_fit'], color='orange', label='ICESat-2')\n",
    "ax1.set_ylabel('elevation [m]')\n",
    "ax1.grid()\n",
    "ax1.legend()\n",
    "# elevation difference\n",
    "ax2.plot(SRTM2_sample_gdf['lat'], snow_off_diff, color='black', label='difference (\"snow depth\")')\n",
    "ax2.set_xlabel('Latitude')\n",
    "ax2.set_ylabel('elevation [m]')\n",
    "ax2.legend()\n",
    "ax2.grid()\n",
    "plt.show()\n",
    "\n",
    "# -----save figure\n",
    "fig.savefig('../figures/snow_free_profile_SRTM_processed_ATL08_20200920013522_13240806_005_01.png',dpi=200)\n",
    "print('figure saved to file')"
   ]
  },
  {
   "cell_type": "markdown",
   "id": "a34c1180-c732-4ede-96eb-0eb8acf1b1bb",
   "metadata": {},
   "source": [
    "<h1>3. Coregister</h1>"
   ]
  },
  {
   "cell_type": "code",
   "execution_count": null,
   "id": "c8df5dba-7bf5-4ae8-8c32-4e56a033a226",
   "metadata": {},
   "outputs": [],
   "source": []
  },
  {
   "cell_type": "markdown",
   "id": "56562d07-cfc9-402b-98cc-278788531726",
   "metadata": {},
   "source": [
    "<h1>4. Estimate snow depth for each ICESat-2 track</h1>"
   ]
  },
  {
   "cell_type": "code",
   "execution_count": null,
   "id": "4b20a3d5-473e-4049-a8ef-668ee1f41e43",
   "metadata": {},
   "outputs": [],
   "source": []
  },
  {
   "cell_type": "markdown",
   "id": "3a9dcd79-7515-4f93-8e39-716a0a513c93",
   "metadata": {},
   "source": [
    "<h1>5. Load SNOTEL snow depths</h1>"
   ]
  },
  {
   "cell_type": "code",
   "execution_count": null,
   "id": "fe9d9860-d438-4e5f-b93a-da4583ac60af",
   "metadata": {},
   "outputs": [],
   "source": [
    "import os\n",
    "from datetime import datetime\n",
    "import numpy as np\n",
    "import matplotlib.pyplot as plt\n",
    "import pandas as pd\n",
    "import geopandas as gpd\n",
    "from shapely.geometry import Point, Polygon\n",
    "import contextily as ctx\n",
    "import ulmo\n",
    "import hvplot.pandas\n",
    "from geoviews import tile_sources as gvts"
   ]
  },
  {
   "cell_type": "code",
   "execution_count": null,
   "id": "8b73e93d-1983-4bf0-91cc-100172a91eb7",
   "metadata": {},
   "outputs": [],
   "source": [
    "# -----latest CUAHSI API endpoint\n",
    "wsdlurl = 'https://hydroportal.cuahsi.org/Snotel/cuahsi_1_1.asmx?WSDL'\n",
    "\n",
    "# -----fetch available site metadata from server\n",
    "sites = ulmo.cuahsi.wof.get_sites(wsdlurl)\n",
    "\n",
    "# -----store dictionary as Pandas DataFrame\n",
    "sites_df = pd.DataFrame.from_dict(sites, orient='index').dropna()\n",
    "sites_df.head()\n",
    "\n",
    "# ---clean up and convert to geodataframe - as in geospatial tutorial \n",
    "# get the lat/lon values as columns rather than a dict\n",
    "sites_df['lat'] = [float(loc['latitude']) for loc in sites_df['location']]\n",
    "sites_df['lon'] = [float(loc['longitude']) for loc in sites_df['location']]\n",
    "# convert to geodataframe, using the lat/lon columns\n",
    "sites_df = gpd.GeoDataFrame(sites_df, geometry=gpd.points_from_xy(sites_df.lon, sites_df.lat), crs='epsg:7661')\n",
    "# drop 'location' column (no longer needed)\n",
    "sites_df = sites_df.drop(columns={'location','lat','lon'})\n",
    "# set elevation column datatype to float\n",
    "sites_df = sites_df.astype({\"elevation_m\":float})\n",
    "# sort DataFrame by name\n",
    "sites_df = sites_df.sort_values(by='name')\n",
    "\n",
    "# -----view all sites (very big)\n",
    "# with pd.option_context('display.max_rows', None, 'display.max_columns', None): \n",
    "#     print(sites_df)\n",
    "    \n",
    "# -----filter to study sites\n",
    "# Grand Mesa (GM) - two SNOTEL sites\n",
    "GM1 = sites_df.loc['SNOTEL:622_CO_SNTL']\n",
    "GM2 = sites_df.loc['SNOTEL:682_CO_SNTL']\n",
    "# Mores Creek Summit (MCS)\n",
    "MCS = sites_df.loc['SNOTEL:637_ID_SNTL']\n",
    "\n",
    "sites_df.head()"
   ]
  },
  {
   "cell_type": "code",
   "execution_count": null,
   "id": "f6f2c1ef-60c6-4671-b4c7-f548b784244c",
   "metadata": {},
   "outputs": [],
   "source": [
    "# -----function to fetch SNOTEL snow depth\n",
    "def snotel_fetch(sitecode, start_date, end_date):\n",
    "    variablecode='SNOTEL:SNWD_D'\n",
    "    #print(sitecode, variablecode, start_date, end_date)\n",
    "    values_df = None\n",
    "    try:\n",
    "        #Request data from the server\n",
    "        site_values = ulmo.cuahsi.wof.get_values(wsdlurl, sitecode, variablecode, start=start_date, end=end_date)\n",
    "        #Convert to a Pandas DataFrame   \n",
    "        values_df = pd.DataFrame.from_dict(site_values['values'])\n",
    "        #Parse the datetime values to Pandas Timestamp objects\n",
    "        values_df['datetime'] = pd.to_datetime(values_df['datetime'], utc=True)\n",
    "        #Set the DataFrame index to the Timestamps\n",
    "        values_df = values_df.set_index('datetime')\n",
    "        #Convert values to float and replace -9999 nodata values with NaN\n",
    "        values_df['value'] = pd.to_numeric(values_df['value']).replace(-9999, np.nan)\n",
    "        #Remove any records flagged with lower quality\n",
    "        values_df = values_df[values_df['quality_control_level_code'] == '1']\n",
    "    except:\n",
    "        print(\"Unable to fetch %s\" % variablecode)\n",
    "    \n",
    "    return values_df\n",
    "\n",
    "# -----set start and end date\n",
    "start_date = '2020-09-01'\n",
    "end_date = '2021-05-31'\n",
    "\n",
    "# -----fetch data\n",
    "GM1_sd = snotel_fetch(sitecode=GM1['code'], start_date=start_date, end_date=end_date)\n",
    "GM2_sd = snotel_fetch(sitecode=GM2['code'], start_date=start_date, end_date=end_date)\n",
    "MCS_sd = snotel_fetch(sitecode=MCS['code'], start_date=start_date, end_date=end_date)"
   ]
  },
  {
   "cell_type": "code",
   "execution_count": null,
   "id": "848e713d-1ed6-49d5-b467-f744d91c71a5",
   "metadata": {},
   "outputs": [],
   "source": [
    "# -----quick plot\n",
    "fig = plt.figure(figsize=(10, 12))\n",
    "plt.rcParams.update({'font.size': 12, 'font.serif': 'Arial'})\n",
    "# ax1 - snow depth\n",
    "ax1 = fig.add_subplot(2, 1, 1)\n",
    "ax1.plot(GM1_sd['value'], label=GM1['name']+' (Grand Mesa)', color='blue')\n",
    "ax1.plot(GM2_sd['value'], label=GM2['name']+' (Grand Mesa)', color='green')\n",
    "ax1.plot(MCS_sd['value'], label=MCS['name'], color='orange')\n",
    "ax1.grid()\n",
    "ax1.legend()\n",
    "ax1.set_ylabel('snow depth [cm]')\n",
    "# ax2 - coordinates\n",
    "ax2 = fig.add_subplot(2, 1, 2)\n",
    "ax2.scatter(GM1['geometry'].x, GM1['geometry'].y, label=GM1['name']+' (Grand Mesa)', color='blue', s=20)\n",
    "ax2.scatter(GM2['geometry'].x, GM2['geometry'].y, label=GM2['name']+' (Grand Mesa)', color='green', s=20)\n",
    "ax2.scatter(MCS['geometry'].x, MCS['geometry'].y, label=MCS['name'], color='orange', s=20)\n",
    "# shaded relief background, for a coloured topo map: don't specify any source in the line below\n",
    "ctx.add_basemap(ax=ax2, crs=sites_df.crs, source=ctx.providers.Esri.WorldShadedRelief) \n",
    "ax2.grid()\n",
    "ax2.set_xlabel('lon')\n",
    "ax2.set_ylabel('lat')\n",
    "ax2.legend(loc='right')\n",
    "\n",
    "# -----export figure\n",
    "fig.savefig('../figures/SNOTEL_snowdepth.png', dpi=300)\n",
    "print('figure saved to file')"
   ]
  },
  {
   "cell_type": "markdown",
   "id": "2fcaeedb-957d-4f21-9ed2-c8bf70bd4e6b",
   "metadata": {},
   "source": [
    "<h1>6. Compare results</h1>"
   ]
  },
  {
   "cell_type": "code",
   "execution_count": null,
   "id": "c889c8e8-324a-4e42-8d86-fdc62040f2f0",
   "metadata": {},
   "outputs": [],
   "source": []
  }
 ],
 "metadata": {
  "kernelspec": {
   "display_name": "Python 3 (ipykernel)",
   "language": "python",
   "name": "python3"
  },
  "language_info": {
   "codemirror_mode": {
    "name": "ipython",
    "version": 3
   },
   "file_extension": ".py",
   "mimetype": "text/x-python",
   "name": "python",
   "nbconvert_exporter": "python",
   "pygments_lexer": "ipython3",
   "version": "3.9.10"
  }
 },
 "nbformat": 4,
 "nbformat_minor": 5
}
