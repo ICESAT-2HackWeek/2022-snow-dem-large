{
 "cells": [
  {
   "cell_type": "markdown",
   "id": "3b510f86-cbd3-4084-8515-ff6db2aba382",
   "metadata": {},
   "source": [
    "# SNOTEL_query\n",
    "\n",
    "### Script to query SNOTEL sites over study area/period through the ulmo CUAHSI interface and plot SWE/snow depth\n",
    "\n",
    "Adapted from the [2021 SnowEx Hackweek notebook](https://github.com/snowex-hackweek/website/blob/main/book/tutorials/geospatial/SNOTEL_query.ipynb). "
   ]
  },
  {
   "cell_type": "code",
   "execution_count": 1,
   "id": "db351538-1998-4cf6-90a8-3bc19c6a7360",
   "metadata": {},
   "outputs": [],
   "source": [
    "# use this cell to download any packages not yet installed\n",
    "# !pip install contextily\n",
    "# !conda install -c conda-forge ulmo # <- this one may need to be run in the terminal"
   ]
  },
  {
   "cell_type": "code",
   "execution_count": 9,
   "id": "dd483c27-b42f-4e3f-9f23-08577315fe5e",
   "metadata": {},
   "outputs": [],
   "source": [
    "import os\n",
    "from datetime import datetime\n",
    "import numpy as np\n",
    "import matplotlib.pyplot as plt\n",
    "import pandas as pd\n",
    "import geopandas as gpd\n",
    "from shapely.geometry import Point, Polygon\n",
    "import contextily as ctx\n",
    "import ulmo"
   ]
  },
  {
   "cell_type": "code",
   "execution_count": 8,
   "id": "21b68791-5f66-4de0-aff2-ed8c7f7ce035",
   "metadata": {},
   "outputs": [],
   "source": [
    "# -----latest CUAHSI API endpoint\n",
    "wsdlurl = 'https://hydroportal.cuahsi.org/Snotel/cuahsi_1_1.asmx?WSDL'\n",
    "\n",
    "# -----fetch available site metadata from server\n",
    "sites = ulmo.cuahsi.wof.get_sites(wsdlurl)\n",
    "\n",
    "# -----store dictionary as Pandas DataFrame\n",
    "sites_df = pd.DataFrame.from_dict(sites, orient='index').dropna()\n",
    "sites_df.head()\n",
    "\n",
    "# ---clean up DataFrame\n",
    "# convert 'location' column (containing 'longitude' and 'latitude') to Shapely Point objects\n",
    "sites_df['geometry'] = [Point(float(loc['longitude']), float(loc['latitude'])) for loc in sites_df['location']]\n",
    "# drop 'location' column (no longer needed)\n",
    "sites_df = sites_df.drop(columns='location')\n",
    "# set elevation column datatype to float\n",
    "sites_df = sites_df.astype({\"elevation_m\":float})\n",
    "# sort DataFrame by name\n",
    "sites_df = sites_df.sort_values(by='name')\n",
    "\n",
    "# -----view all sites (very big)\n",
    "# with pd.option_context('display.max_rows', None, 'display.max_columns', None): \n",
    "#     print(sites_df)\n",
    "    \n",
    "# -----filter to study sites\n",
    "# Grand Mesa (GM) - two SNOTEL sites\n",
    "GM1 = sites_df.loc['SNOTEL:622_CO_SNTL']\n",
    "GM2 = sites_df.loc['SNOTEL:682_CO_SNTL']\n",
    "# Mores Creek Summit (MCS)\n",
    "MCS = sites_df.loc['SNOTEL:637_ID_SNTL']"
   ]
  },
  {
   "cell_type": "markdown",
   "id": "e1bb2b05-7e9c-412a-9571-26c7407b5f4c",
   "metadata": {},
   "source": [
    "### AOI #1: Grand Mesa, CO"
   ]
  },
  {
   "cell_type": "code",
   "execution_count": null,
   "id": "48ae0b5f-c276-4f63-933c-4bb63eebe59c",
   "metadata": {},
   "outputs": [],
   "source": [
    "# bounding box Shapely Polygon\n",
    "latmin = 38.884619201291905\n",
    "latmax = 39.11727568585598\n",
    "lonmin = -107.9\n",
    "lonmax = -108.24005126953124\n",
    "AOI1_bb = Polygon([(lonmin, latmin), (lonmax, latmin), (lonmax, latmax), (lonmin, latmax), (lonmin, latmin)])\n",
    "\n",
    "# convert df to geopandas df\n",
    "GM1_gdf = gpd.GeoDataFrame(GM1, crs='EPSG:4326')\n",
    "GM2_gdf = gpd.GeoDataFrame(GM2, crs='EPSG:4326')\n"
   ]
  }
 ],
 "metadata": {
  "kernelspec": {
   "display_name": "Python 3 (ipykernel)",
   "language": "python",
   "name": "python3"
  },
  "language_info": {
   "codemirror_mode": {
    "name": "ipython",
    "version": 3
   },
   "file_extension": ".py",
   "mimetype": "text/x-python",
   "name": "python",
   "nbconvert_exporter": "python",
   "pygments_lexer": "ipython3",
   "version": "3.9.10"
  }
 },
 "nbformat": 4,
 "nbformat_minor": 5
}
