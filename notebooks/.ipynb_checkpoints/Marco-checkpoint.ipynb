{
 "cells": [
  {
   "cell_type": "code",
   "execution_count": 1,
   "id": "4c9d2fdb-a942-4367-a805-7e9d949a7fe6",
   "metadata": {},
   "outputs": [],
   "source": [
    "# just an example"
   ]
  },
  {
   "cell_type": "code",
   "execution_count": null,
   "id": "9d5ac246-db71-45de-aacb-bbcdccd52fc9",
   "metadata": {},
   "outputs": [],
   "source": []
  }
 ],
 "metadata": {
  "kernelspec": {
   "display_name": "Python 3 (ipykernel)",
   "language": "python",
   "name": "python3"
  },
  "language_info": {
   "codemirror_mode": {
    "name": "ipython",
    "version": 3
   },
   "file_extension": ".py",
   "mimetype": "text/x-python",
   "name": "python",
   "nbconvert_exporter": "python",
   "pygments_lexer": "ipython3",
   "version": "3.9.10"
  }
 },
 "nbformat": 4,
 "nbformat_minor": 5
}
