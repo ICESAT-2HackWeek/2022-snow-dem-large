{
 "cells": [
  {
   "cell_type": "markdown",
   "id": "643d1f51-38a4-4b53-a811-43b2f1e88dac",
   "metadata": {},
   "source": [
    "# DEM elevation extraction - work in progress"
   ]
  },
  {
   "cell_type": "markdown",
   "id": "e77e9b69-4def-47bb-b2b7-89c78b4ad9dc",
   "metadata": {},
   "source": [
    "The script assumes that you have downloaded the data of AOI 1 (query_download_icesat2.ipynb) and installed the srtm package (srtm.ipynb)."
   ]
  },
  {
   "cell_type": "code",
   "execution_count": 21,
   "id": "acb78eab-a07c-459d-a49a-fbc9a42dba64",
   "metadata": {},
   "outputs": [],
   "source": [
    "import srtm\n",
    "import numpy as np\n",
    "import matplotlib.pyplot as plt\n",
    "import h5py\n",
    "import pandas as pd\n",
    "import rasterio"
   ]
  },
  {
   "cell_type": "code",
   "execution_count": 6,
   "id": "24f3f64d-4b3b-4e71-96a2-a087177f26bf",
   "metadata": {},
   "outputs": [],
   "source": [
    " # adapted from tutorial \"Data integration .. Part I\"\n",
    "\n",
    "# Load one ICESat-2 data track, one beam (GT2R/L)\n",
    "is2_file = '/home/jovyan/data/processed_ATL08_20201111102237_07370902_005_01.h5'\n",
    "with h5py.File(is2_file, 'r') as f:\n",
    "    is2_gt2r = pd.DataFrame(data={'lat': f['gt2r/land_segments/latitude'][:],\n",
    "                                  'lon': f['gt2r/land_segments/longitude'][:],\n",
    "                                  'elev': f['gt2r/land_segments/terrain/h_te_best_fit'][:]})\n",
    "    is2_gt2l = pd.DataFrame(data={'lat': f['gt2l/land_segments/latitude'][:],\n",
    "                                  'lon': f['gt2l/land_segments/longitude'][:],\n",
    "                                  'elev': f['gt2l/land_segments/terrain/h_te_best_fit'][:]})"
   ]
  },
  {
   "cell_type": "code",
   "execution_count": 19,
   "id": "5ccaf30a-f345-4081-bc6a-84c7d2b1afa5",
   "metadata": {},
   "outputs": [
    {
     "ename": "TypeError",
     "evalue": "get_image() missing 2 required positional arguments: 'longitude_interval' and 'max_elevation'",
     "output_type": "error",
     "traceback": [
      "\u001b[0;31m---------------------------------------------------------------------------\u001b[0m",
      "\u001b[0;31mTypeError\u001b[0m                                 Traceback (most recent call last)",
      "Input \u001b[0;32mIn [19]\u001b[0m, in \u001b[0;36m<cell line: 11>\u001b[0;34m()\u001b[0m\n\u001b[1;32m      8\u001b[0m longitude_interval\u001b[38;5;241m=\u001b[39m (\u001b[38;5;241m-\u001b[39m\u001b[38;5;241m108.24005126953124\u001b[39m, \u001b[38;5;241m-\u001b[39m\u001b[38;5;241m107.9\u001b[39m)\n\u001b[1;32m     10\u001b[0m \u001b[38;5;66;03m# get data - ideally: 30m resolution, some form of a geodataset, doesn't need to be loaded\u001b[39;00m\n\u001b[0;32m---> 11\u001b[0m dem_file \u001b[38;5;241m=\u001b[39m \u001b[43mgeo_elevation_data\u001b[49m\u001b[38;5;241;43m.\u001b[39;49m\u001b[43mget_image\u001b[49m\u001b[43m(\u001b[49m\u001b[43mnp\u001b[49m\u001b[38;5;241;43m.\u001b[39;49m\u001b[43mmean\u001b[49m\u001b[43m(\u001b[49m\u001b[43mlatitude_interval\u001b[49m\u001b[43m)\u001b[49m\u001b[43m,\u001b[49m\u001b[43m \u001b[49m\u001b[43mnp\u001b[49m\u001b[38;5;241;43m.\u001b[39;49m\u001b[43mmean\u001b[49m\u001b[43m(\u001b[49m\u001b[43mlongitude_interval\u001b[49m\u001b[43m)\u001b[49m\u001b[43m)\u001b[49m\n",
      "\u001b[0;31mTypeError\u001b[0m: get_image() missing 2 required positional arguments: 'longitude_interval' and 'max_elevation'"
     ]
    }
   ],
   "source": [
    "# get the DEM for the area \n",
    "geo_elevation_data = srtm.get_data(srtm1=True, local_cache_dir='/home/jovyan/data/srtm/')\n",
    "\n",
    "image_size = 500\n",
    "\n",
    "#bounding box for the AOI_1\n",
    "latitude_interval = (38.884619201291905, 39.11727568585598)\n",
    "longitude_interval= (-108.24005126953124, -107.9)\n",
    "\n",
    "# get data - ideally: 30m resolution, some form of a geodataset, doesn't need to be loaded\n",
    "dem_file = geo_elevation_data.get_image(np.mean(latitude_interval), np.mean(longitude_interval))\n"
   ]
  },
  {
   "cell_type": "code",
   "execution_count": 10,
   "id": "22a4310d-7bb9-4d7e-add6-3fc3d3ac78d0",
   "metadata": {},
   "outputs": [
    {
     "ename": "TypeError",
     "evalue": "'dict' object is not callable",
     "output_type": "error",
     "traceback": [
      "\u001b[0;31m---------------------------------------------------------------------------\u001b[0m",
      "\u001b[0;31mTypeError\u001b[0m                                 Traceback (most recent call last)",
      "Input \u001b[0;32mIn [10]\u001b[0m, in \u001b[0;36m<cell line: 1>\u001b[0;34m()\u001b[0m\n\u001b[0;32m----> 1\u001b[0m \u001b[43mgeo_elevation_data\u001b[49m\u001b[38;5;241;43m.\u001b[39;49m\u001b[43msrtm1_files\u001b[49m\u001b[43m(\u001b[49m\u001b[43mlatitude_interval\u001b[49m\u001b[43m,\u001b[49m\u001b[43m \u001b[49m\u001b[43mlongitude_interval\u001b[49m\u001b[43m,\u001b[49m\u001b[43m)\u001b[49m\n",
      "\u001b[0;31mTypeError\u001b[0m: 'dict' object is not callable"
     ]
    }
   ],
   "source": []
  },
  {
   "cell_type": "markdown",
   "id": "bf054b07-080f-42ba-a146-2a952d808c06",
   "metadata": {},
   "source": [
    "**the above does not work, and depending on what the tool outputs, some steps are needed here:**"
   ]
  },
  {
   "cell_type": "code",
   "execution_count": null,
   "id": "032f98de-1d13-4c92-b5a4-89cb4a12d779",
   "metadata": {},
   "outputs": [],
   "source": [
    "# load and reproject the DEM?\n",
    "\n",
    "dem_ds = rasterio.open(dem_file)"
   ]
  },
  {
   "cell_type": "code",
   "execution_count": 18,
   "id": "138e3006-2541-4f13-ba64-37e128619bc6",
   "metadata": {},
   "outputs": [],
   "source": [
    "# create a coordinate array for ATL08 samples \n",
    "coords = [(x,y) for x, y in zip(is2_gt2r.lat, is2_gt2r.lon)]"
   ]
  },
  {
   "cell_type": "code",
   "execution_count": null,
   "id": "9a253492-caee-4da4-808a-13adf17f6574",
   "metadata": {},
   "outputs": [],
   "source": [
    "# sample using the rasterio sample method\n",
    "is2_gt2r['demH'] =np.array([x[0] for x in dem_ds.sample(coords)],)\n"
   ]
  },
  {
   "cell_type": "code",
   "execution_count": null,
   "id": "91db242f-1fbd-4ac4-b09d-66d334df8414",
   "metadata": {},
   "outputs": [],
   "source": []
  },
  {
   "cell_type": "code",
   "execution_count": null,
   "id": "ee4bdbda-475b-4f6a-b73e-46790f0f69d1",
   "metadata": {},
   "outputs": [],
   "source": []
  },
  {
   "cell_type": "code",
   "execution_count": null,
   "id": "54936515-88f9-423a-b34e-dd6c1c4673be",
   "metadata": {},
   "outputs": [],
   "source": []
  }
 ],
 "metadata": {
  "kernelspec": {
   "display_name": "Python 3 (ipykernel)",
   "language": "python",
   "name": "python3"
  },
  "language_info": {
   "codemirror_mode": {
    "name": "ipython",
    "version": 3
   },
   "file_extension": ".py",
   "mimetype": "text/x-python",
   "name": "python",
   "nbconvert_exporter": "python",
   "pygments_lexer": "ipython3",
   "version": "3.9.10"
  }
 },
 "nbformat": 4,
 "nbformat_minor": 5
}
